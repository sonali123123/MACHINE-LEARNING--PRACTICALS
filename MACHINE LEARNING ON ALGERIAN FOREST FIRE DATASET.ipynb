{
 "cells": [
  {
   "cell_type": "markdown",
   "id": "c007d444",
   "metadata": {},
   "source": [
    "![title](https://avatars.githubusercontent.com/u/79634578?s=200&v=4)"
   ]
  },
  {
   "cell_type": "markdown",
   "id": "ac891502",
   "metadata": {},
   "source": [
    "# Algerian Forest Fire Dataset - Temperature Prediction\n",
    "\n",
    "\n",
    "\n",
    "* Data Collection\n",
    "* Exploratory data analysis\n",
    "* Data Cleaning\n",
    "* Linear Regression Model Training\n",
    "* Ridge Regression Model Training\n",
    "* Lasso Regression Model Training\n",
    "* Elastincet Regression Model Training\n",
    "\n"
   ]
  },
  {
   "cell_type": "markdown",
   "id": "cbff9339",
   "metadata": {},
   "source": [
    "# Importing the Libraries\n"
   ]
  },
  {
   "cell_type": "code",
   "execution_count": 1,
   "id": "89dcad57",
   "metadata": {},
   "outputs": [],
   "source": [
    "import pandas as pd\n",
    "import numpy as np\n",
    "import seaborn as sns\n",
    "import matplotlib.pyplot as plt\n",
    "import plotly.express as px\n",
    "import warnings\n",
    "warnings.filterwarnings(\"ignore\")\n",
    "\n",
    "%matplotlib inline"
   ]
  },
  {
   "cell_type": "markdown",
   "id": "4fdd1acf",
   "metadata": {},
   "source": [
    "# Data Reading and Cleaning"
   ]
  },
  {
   "cell_type": "code",
   "execution_count": 2,
   "id": "a485f4d3",
   "metadata": {},
   "outputs": [
    {
     "data": {
      "text/html": [
       "<div>\n",
       "<style scoped>\n",
       "    .dataframe tbody tr th:only-of-type {\n",
       "        vertical-align: middle;\n",
       "    }\n",
       "\n",
       "    .dataframe tbody tr th {\n",
       "        vertical-align: top;\n",
       "    }\n",
       "\n",
       "    .dataframe thead th {\n",
       "        text-align: right;\n",
       "    }\n",
       "</style>\n",
       "<table border=\"1\" class=\"dataframe\">\n",
       "  <thead>\n",
       "    <tr style=\"text-align: right;\">\n",
       "      <th></th>\n",
       "      <th>day</th>\n",
       "      <th>month</th>\n",
       "      <th>year</th>\n",
       "      <th>Temperature</th>\n",
       "      <th>RH</th>\n",
       "      <th>Ws</th>\n",
       "      <th>Rain</th>\n",
       "      <th>FFMC</th>\n",
       "      <th>DMC</th>\n",
       "      <th>DC</th>\n",
       "      <th>ISI</th>\n",
       "      <th>BUI</th>\n",
       "      <th>FWI</th>\n",
       "      <th>Classes</th>\n",
       "    </tr>\n",
       "  </thead>\n",
       "  <tbody>\n",
       "    <tr>\n",
       "      <th>0</th>\n",
       "      <td>01</td>\n",
       "      <td>06</td>\n",
       "      <td>2012</td>\n",
       "      <td>29</td>\n",
       "      <td>57</td>\n",
       "      <td>18</td>\n",
       "      <td>0</td>\n",
       "      <td>65.7</td>\n",
       "      <td>3.4</td>\n",
       "      <td>7.6</td>\n",
       "      <td>1.3</td>\n",
       "      <td>3.4</td>\n",
       "      <td>0.5</td>\n",
       "      <td>not fire</td>\n",
       "    </tr>\n",
       "    <tr>\n",
       "      <th>1</th>\n",
       "      <td>02</td>\n",
       "      <td>06</td>\n",
       "      <td>2012</td>\n",
       "      <td>29</td>\n",
       "      <td>61</td>\n",
       "      <td>13</td>\n",
       "      <td>1.3</td>\n",
       "      <td>64.4</td>\n",
       "      <td>4.1</td>\n",
       "      <td>7.6</td>\n",
       "      <td>1</td>\n",
       "      <td>3.9</td>\n",
       "      <td>0.4</td>\n",
       "      <td>not fire</td>\n",
       "    </tr>\n",
       "    <tr>\n",
       "      <th>2</th>\n",
       "      <td>03</td>\n",
       "      <td>06</td>\n",
       "      <td>2012</td>\n",
       "      <td>26</td>\n",
       "      <td>82</td>\n",
       "      <td>22</td>\n",
       "      <td>13.1</td>\n",
       "      <td>47.1</td>\n",
       "      <td>2.5</td>\n",
       "      <td>7.1</td>\n",
       "      <td>0.3</td>\n",
       "      <td>2.7</td>\n",
       "      <td>0.1</td>\n",
       "      <td>not fire</td>\n",
       "    </tr>\n",
       "    <tr>\n",
       "      <th>3</th>\n",
       "      <td>04</td>\n",
       "      <td>06</td>\n",
       "      <td>2012</td>\n",
       "      <td>25</td>\n",
       "      <td>89</td>\n",
       "      <td>13</td>\n",
       "      <td>2.5</td>\n",
       "      <td>28.6</td>\n",
       "      <td>1.3</td>\n",
       "      <td>6.9</td>\n",
       "      <td>0</td>\n",
       "      <td>1.7</td>\n",
       "      <td>0</td>\n",
       "      <td>not fire</td>\n",
       "    </tr>\n",
       "    <tr>\n",
       "      <th>4</th>\n",
       "      <td>05</td>\n",
       "      <td>06</td>\n",
       "      <td>2012</td>\n",
       "      <td>27</td>\n",
       "      <td>77</td>\n",
       "      <td>16</td>\n",
       "      <td>0</td>\n",
       "      <td>64.8</td>\n",
       "      <td>3</td>\n",
       "      <td>14.2</td>\n",
       "      <td>1.2</td>\n",
       "      <td>3.9</td>\n",
       "      <td>0.5</td>\n",
       "      <td>not fire</td>\n",
       "    </tr>\n",
       "  </tbody>\n",
       "</table>\n",
       "</div>"
      ],
      "text/plain": [
       "  day month  year Temperature  RH  Ws Rain   FFMC  DMC    DC  ISI  BUI  FWI  \\\n",
       "0  01    06  2012          29  57  18     0  65.7  3.4   7.6  1.3  3.4  0.5   \n",
       "1  02    06  2012          29  61  13   1.3  64.4  4.1   7.6    1  3.9  0.4   \n",
       "2  03    06  2012          26  82  22  13.1  47.1  2.5   7.1  0.3  2.7  0.1   \n",
       "3  04    06  2012          25  89  13   2.5  28.6  1.3   6.9    0  1.7    0   \n",
       "4  05    06  2012          27  77  16     0  64.8    3  14.2  1.2  3.9  0.5   \n",
       "\n",
       "     Classes    \n",
       "0  not fire     \n",
       "1  not fire     \n",
       "2  not fire     \n",
       "3  not fire     \n",
       "4  not fire     "
      ]
     },
     "execution_count": 2,
     "metadata": {},
     "output_type": "execute_result"
    }
   ],
   "source": [
    "df = pd.read_csv('Algerian_forest_fires_dataset.csv',header=1)\n",
    "df.head()"
   ]
  },
  {
   "cell_type": "markdown",
   "id": "c28cdc13",
   "metadata": {},
   "source": [
    "### Drop an  row"
   ]
  },
  {
   "cell_type": "code",
   "execution_count": 3,
   "id": "b96f81d9",
   "metadata": {},
   "outputs": [],
   "source": [
    "\n",
    "df.drop([122,123],inplace=True)\n",
    "df.reset_index(inplace=True)\n",
    "df.drop('index',axis=1,inplace=True)\n"
   ]
  },
  {
   "cell_type": "code",
   "execution_count": 4,
   "id": "2c16fba7",
   "metadata": {},
   "outputs": [],
   "source": [
    "df.loc[:122, 'region'] = 'bejaia'\n",
    "df.loc[122:, 'region'] = 'Sidi-Bel Abbes'"
   ]
  },
  {
   "cell_type": "markdown",
   "id": "2a924d49",
   "metadata": {},
   "source": [
    "### Stripping the names of the columns "
   ]
  },
  {
   "cell_type": "code",
   "execution_count": 5,
   "id": "74ae16b0",
   "metadata": {},
   "outputs": [
    {
     "data": {
      "text/plain": [
       "Index(['day', 'month', 'year', 'Temperature', 'RH', 'Ws', 'Rain', 'FFMC',\n",
       "       'DMC', 'DC', 'ISI', 'BUI', 'FWI', 'Classes', 'region'],\n",
       "      dtype='object')"
      ]
     },
     "execution_count": 5,
     "metadata": {},
     "output_type": "execute_result"
    }
   ],
   "source": [
    "\n",
    "df.columns = [i.strip() for i in df.columns]\n",
    "df.columns"
   ]
  },
  {
   "cell_type": "markdown",
   "id": "6399ed62",
   "metadata": {},
   "source": [
    "### Dropping the Classes Features "
   ]
  },
  {
   "cell_type": "code",
   "execution_count": 6,
   "id": "e54e6d17",
   "metadata": {},
   "outputs": [
    {
     "data": {
      "text/html": [
       "<div>\n",
       "<style scoped>\n",
       "    .dataframe tbody tr th:only-of-type {\n",
       "        vertical-align: middle;\n",
       "    }\n",
       "\n",
       "    .dataframe tbody tr th {\n",
       "        vertical-align: top;\n",
       "    }\n",
       "\n",
       "    .dataframe thead th {\n",
       "        text-align: right;\n",
       "    }\n",
       "</style>\n",
       "<table border=\"1\" class=\"dataframe\">\n",
       "  <thead>\n",
       "    <tr style=\"text-align: right;\">\n",
       "      <th></th>\n",
       "      <th>day</th>\n",
       "      <th>month</th>\n",
       "      <th>year</th>\n",
       "      <th>Temperature</th>\n",
       "      <th>RH</th>\n",
       "      <th>Ws</th>\n",
       "      <th>Rain</th>\n",
       "      <th>FFMC</th>\n",
       "      <th>DMC</th>\n",
       "      <th>DC</th>\n",
       "      <th>ISI</th>\n",
       "      <th>BUI</th>\n",
       "      <th>FWI</th>\n",
       "      <th>region</th>\n",
       "    </tr>\n",
       "  </thead>\n",
       "  <tbody>\n",
       "    <tr>\n",
       "      <th>0</th>\n",
       "      <td>01</td>\n",
       "      <td>06</td>\n",
       "      <td>2012</td>\n",
       "      <td>29</td>\n",
       "      <td>57</td>\n",
       "      <td>18</td>\n",
       "      <td>0</td>\n",
       "      <td>65.7</td>\n",
       "      <td>3.4</td>\n",
       "      <td>7.6</td>\n",
       "      <td>1.3</td>\n",
       "      <td>3.4</td>\n",
       "      <td>0.5</td>\n",
       "      <td>bejaia</td>\n",
       "    </tr>\n",
       "    <tr>\n",
       "      <th>1</th>\n",
       "      <td>02</td>\n",
       "      <td>06</td>\n",
       "      <td>2012</td>\n",
       "      <td>29</td>\n",
       "      <td>61</td>\n",
       "      <td>13</td>\n",
       "      <td>1.3</td>\n",
       "      <td>64.4</td>\n",
       "      <td>4.1</td>\n",
       "      <td>7.6</td>\n",
       "      <td>1</td>\n",
       "      <td>3.9</td>\n",
       "      <td>0.4</td>\n",
       "      <td>bejaia</td>\n",
       "    </tr>\n",
       "    <tr>\n",
       "      <th>2</th>\n",
       "      <td>03</td>\n",
       "      <td>06</td>\n",
       "      <td>2012</td>\n",
       "      <td>26</td>\n",
       "      <td>82</td>\n",
       "      <td>22</td>\n",
       "      <td>13.1</td>\n",
       "      <td>47.1</td>\n",
       "      <td>2.5</td>\n",
       "      <td>7.1</td>\n",
       "      <td>0.3</td>\n",
       "      <td>2.7</td>\n",
       "      <td>0.1</td>\n",
       "      <td>bejaia</td>\n",
       "    </tr>\n",
       "    <tr>\n",
       "      <th>3</th>\n",
       "      <td>04</td>\n",
       "      <td>06</td>\n",
       "      <td>2012</td>\n",
       "      <td>25</td>\n",
       "      <td>89</td>\n",
       "      <td>13</td>\n",
       "      <td>2.5</td>\n",
       "      <td>28.6</td>\n",
       "      <td>1.3</td>\n",
       "      <td>6.9</td>\n",
       "      <td>0</td>\n",
       "      <td>1.7</td>\n",
       "      <td>0</td>\n",
       "      <td>bejaia</td>\n",
       "    </tr>\n",
       "    <tr>\n",
       "      <th>4</th>\n",
       "      <td>05</td>\n",
       "      <td>06</td>\n",
       "      <td>2012</td>\n",
       "      <td>27</td>\n",
       "      <td>77</td>\n",
       "      <td>16</td>\n",
       "      <td>0</td>\n",
       "      <td>64.8</td>\n",
       "      <td>3</td>\n",
       "      <td>14.2</td>\n",
       "      <td>1.2</td>\n",
       "      <td>3.9</td>\n",
       "      <td>0.5</td>\n",
       "      <td>bejaia</td>\n",
       "    </tr>\n",
       "  </tbody>\n",
       "</table>\n",
       "</div>"
      ],
      "text/plain": [
       "  day month  year Temperature  RH  Ws  Rain  FFMC  DMC    DC  ISI  BUI  FWI  \\\n",
       "0  01    06  2012          29  57  18     0  65.7  3.4   7.6  1.3  3.4  0.5   \n",
       "1  02    06  2012          29  61  13   1.3  64.4  4.1   7.6    1  3.9  0.4   \n",
       "2  03    06  2012          26  82  22  13.1  47.1  2.5   7.1  0.3  2.7  0.1   \n",
       "3  04    06  2012          25  89  13   2.5  28.6  1.3   6.9    0  1.7    0   \n",
       "4  05    06  2012          27  77  16     0  64.8    3  14.2  1.2  3.9  0.5   \n",
       "\n",
       "   region  \n",
       "0  bejaia  \n",
       "1  bejaia  \n",
       "2  bejaia  \n",
       "3  bejaia  \n",
       "4  bejaia  "
      ]
     },
     "execution_count": 6,
     "metadata": {},
     "output_type": "execute_result"
    }
   ],
   "source": [
    "df.drop('Classes',axis=1,inplace=True)\n",
    "df.head()"
   ]
  },
  {
   "cell_type": "markdown",
   "id": "58f304ea",
   "metadata": {},
   "source": [
    "# Replacing the day,month,year feature with date feature"
   ]
  },
  {
   "cell_type": "code",
   "execution_count": 7,
   "id": "2fe07569",
   "metadata": {},
   "outputs": [],
   "source": [
    "df['date']=pd.to_datetime(df[['day','month','year']])\n",
    "df.drop(['day','month','year'],axis=1,inplace=True)\n"
   ]
  },
  {
   "cell_type": "code",
   "execution_count": 8,
   "id": "c5d6aeb4",
   "metadata": {},
   "outputs": [
    {
     "data": {
      "text/html": [
       "<div>\n",
       "<style scoped>\n",
       "    .dataframe tbody tr th:only-of-type {\n",
       "        vertical-align: middle;\n",
       "    }\n",
       "\n",
       "    .dataframe tbody tr th {\n",
       "        vertical-align: top;\n",
       "    }\n",
       "\n",
       "    .dataframe thead th {\n",
       "        text-align: right;\n",
       "    }\n",
       "</style>\n",
       "<table border=\"1\" class=\"dataframe\">\n",
       "  <thead>\n",
       "    <tr style=\"text-align: right;\">\n",
       "      <th></th>\n",
       "      <th>Temperature</th>\n",
       "      <th>RH</th>\n",
       "      <th>Ws</th>\n",
       "      <th>Rain</th>\n",
       "      <th>FFMC</th>\n",
       "      <th>DMC</th>\n",
       "      <th>DC</th>\n",
       "      <th>ISI</th>\n",
       "      <th>BUI</th>\n",
       "      <th>FWI</th>\n",
       "      <th>region</th>\n",
       "      <th>date</th>\n",
       "    </tr>\n",
       "  </thead>\n",
       "  <tbody>\n",
       "    <tr>\n",
       "      <th>0</th>\n",
       "      <td>29</td>\n",
       "      <td>57</td>\n",
       "      <td>18</td>\n",
       "      <td>0</td>\n",
       "      <td>65.7</td>\n",
       "      <td>3.4</td>\n",
       "      <td>7.6</td>\n",
       "      <td>1.3</td>\n",
       "      <td>3.4</td>\n",
       "      <td>0.5</td>\n",
       "      <td>bejaia</td>\n",
       "      <td>2012-06-01</td>\n",
       "    </tr>\n",
       "    <tr>\n",
       "      <th>1</th>\n",
       "      <td>29</td>\n",
       "      <td>61</td>\n",
       "      <td>13</td>\n",
       "      <td>1.3</td>\n",
       "      <td>64.4</td>\n",
       "      <td>4.1</td>\n",
       "      <td>7.6</td>\n",
       "      <td>1</td>\n",
       "      <td>3.9</td>\n",
       "      <td>0.4</td>\n",
       "      <td>bejaia</td>\n",
       "      <td>2012-06-02</td>\n",
       "    </tr>\n",
       "    <tr>\n",
       "      <th>2</th>\n",
       "      <td>26</td>\n",
       "      <td>82</td>\n",
       "      <td>22</td>\n",
       "      <td>13.1</td>\n",
       "      <td>47.1</td>\n",
       "      <td>2.5</td>\n",
       "      <td>7.1</td>\n",
       "      <td>0.3</td>\n",
       "      <td>2.7</td>\n",
       "      <td>0.1</td>\n",
       "      <td>bejaia</td>\n",
       "      <td>2012-06-03</td>\n",
       "    </tr>\n",
       "    <tr>\n",
       "      <th>3</th>\n",
       "      <td>25</td>\n",
       "      <td>89</td>\n",
       "      <td>13</td>\n",
       "      <td>2.5</td>\n",
       "      <td>28.6</td>\n",
       "      <td>1.3</td>\n",
       "      <td>6.9</td>\n",
       "      <td>0</td>\n",
       "      <td>1.7</td>\n",
       "      <td>0</td>\n",
       "      <td>bejaia</td>\n",
       "      <td>2012-06-04</td>\n",
       "    </tr>\n",
       "    <tr>\n",
       "      <th>4</th>\n",
       "      <td>27</td>\n",
       "      <td>77</td>\n",
       "      <td>16</td>\n",
       "      <td>0</td>\n",
       "      <td>64.8</td>\n",
       "      <td>3</td>\n",
       "      <td>14.2</td>\n",
       "      <td>1.2</td>\n",
       "      <td>3.9</td>\n",
       "      <td>0.5</td>\n",
       "      <td>bejaia</td>\n",
       "      <td>2012-06-05</td>\n",
       "    </tr>\n",
       "  </tbody>\n",
       "</table>\n",
       "</div>"
      ],
      "text/plain": [
       "  Temperature  RH  Ws  Rain  FFMC  DMC    DC  ISI  BUI  FWI  region       date\n",
       "0          29  57  18     0  65.7  3.4   7.6  1.3  3.4  0.5  bejaia 2012-06-01\n",
       "1          29  61  13   1.3  64.4  4.1   7.6    1  3.9  0.4  bejaia 2012-06-02\n",
       "2          26  82  22  13.1  47.1  2.5   7.1  0.3  2.7  0.1  bejaia 2012-06-03\n",
       "3          25  89  13   2.5  28.6  1.3   6.9    0  1.7    0  bejaia 2012-06-04\n",
       "4          27  77  16     0  64.8    3  14.2  1.2  3.9  0.5  bejaia 2012-06-05"
      ]
     },
     "execution_count": 8,
     "metadata": {},
     "output_type": "execute_result"
    }
   ],
   "source": [
    "df.head()"
   ]
  },
  {
   "cell_type": "markdown",
   "id": "fccba596",
   "metadata": {},
   "source": [
    "### Checking the datatypes of features "
   ]
  },
  {
   "cell_type": "code",
   "execution_count": 9,
   "id": "94a1883b",
   "metadata": {},
   "outputs": [
    {
     "data": {
      "text/plain": [
       "Temperature            object\n",
       "RH                     object\n",
       "Ws                     object\n",
       "Rain                   object\n",
       "FFMC                   object\n",
       "DMC                    object\n",
       "DC                     object\n",
       "ISI                    object\n",
       "BUI                    object\n",
       "FWI                    object\n",
       "region                 object\n",
       "date           datetime64[ns]\n",
       "dtype: object"
      ]
     },
     "execution_count": 9,
     "metadata": {},
     "output_type": "execute_result"
    }
   ],
   "source": [
    "df.dtypes"
   ]
  },
  {
   "cell_type": "markdown",
   "id": "14065b61",
   "metadata": {},
   "source": [
    "### Changing the datatypes of features "
   ]
  },
  {
   "cell_type": "code",
   "execution_count": 10,
   "id": "933e2f43",
   "metadata": {},
   "outputs": [],
   "source": [
    "\n",
    "\n",
    "df['Temperature']=df['Temperature'].astype(int)\n",
    "df['RH']=df['RH'].astype(int)\n",
    "df['Ws']=df['Ws'].astype(int)\n",
    "df['Rain']=df['Rain'].astype(float)\n",
    "df['FFMC']=df['FFMC'].astype(float)\n",
    "df['DMC']=df['DMC'].astype(float)\n",
    "df['ISI']=df['ISI'].astype(float)\n",
    "df['BUI']=df['BUI'].astype(float)\n",
    "\n"
   ]
  },
  {
   "cell_type": "code",
   "execution_count": 11,
   "id": "5daa04b1",
   "metadata": {},
   "outputs": [
    {
     "data": {
      "text/plain": [
       "Temperature             int32\n",
       "RH                      int32\n",
       "Ws                      int32\n",
       "Rain                  float64\n",
       "FFMC                  float64\n",
       "DMC                   float64\n",
       "DC                     object\n",
       "ISI                   float64\n",
       "BUI                   float64\n",
       "FWI                    object\n",
       "region                 object\n",
       "date           datetime64[ns]\n",
       "dtype: object"
      ]
     },
     "execution_count": 11,
     "metadata": {},
     "output_type": "execute_result"
    }
   ],
   "source": [
    "df.dtypes"
   ]
  },
  {
   "cell_type": "markdown",
   "id": "40d2a868",
   "metadata": {},
   "source": [
    "### Applying  Label encoding in DC,FWI,region features "
   ]
  },
  {
   "cell_type": "code",
   "execution_count": 12,
   "id": "d70e0646",
   "metadata": {},
   "outputs": [],
   "source": [
    "from sklearn.preprocessing import LabelEncoder\n",
    "LabelEncoder=LabelEncoder()"
   ]
  },
  {
   "cell_type": "code",
   "execution_count": 13,
   "id": "2f752545",
   "metadata": {},
   "outputs": [],
   "source": [
    "df['DC']=LabelEncoder.fit_transform(df['DC'])\n",
    "df['FWI']=LabelEncoder.fit_transform(df['FWI'])\n",
    "df['region']=LabelEncoder.fit_transform(df['region'])\n",
    "\n"
   ]
  },
  {
   "cell_type": "code",
   "execution_count": 14,
   "id": "f9c3e236",
   "metadata": {},
   "outputs": [
    {
     "data": {
      "text/plain": [
       "Temperature             int32\n",
       "RH                      int32\n",
       "Ws                      int32\n",
       "Rain                  float64\n",
       "FFMC                  float64\n",
       "DMC                   float64\n",
       "DC                      int32\n",
       "ISI                   float64\n",
       "BUI                   float64\n",
       "FWI                     int32\n",
       "region                  int32\n",
       "date           datetime64[ns]\n",
       "dtype: object"
      ]
     },
     "execution_count": 14,
     "metadata": {},
     "output_type": "execute_result"
    }
   ],
   "source": [
    "df.dtypes"
   ]
  },
  {
   "cell_type": "code",
   "execution_count": 15,
   "id": "04078ddc",
   "metadata": {},
   "outputs": [
    {
     "data": {
      "text/html": [
       "<div>\n",
       "<style scoped>\n",
       "    .dataframe tbody tr th:only-of-type {\n",
       "        vertical-align: middle;\n",
       "    }\n",
       "\n",
       "    .dataframe tbody tr th {\n",
       "        vertical-align: top;\n",
       "    }\n",
       "\n",
       "    .dataframe thead th {\n",
       "        text-align: right;\n",
       "    }\n",
       "</style>\n",
       "<table border=\"1\" class=\"dataframe\">\n",
       "  <thead>\n",
       "    <tr style=\"text-align: right;\">\n",
       "      <th></th>\n",
       "      <th>Temperature</th>\n",
       "      <th>RH</th>\n",
       "      <th>Ws</th>\n",
       "      <th>Rain</th>\n",
       "      <th>FFMC</th>\n",
       "      <th>DMC</th>\n",
       "      <th>DC</th>\n",
       "      <th>ISI</th>\n",
       "      <th>BUI</th>\n",
       "      <th>FWI</th>\n",
       "      <th>region</th>\n",
       "      <th>date</th>\n",
       "    </tr>\n",
       "  </thead>\n",
       "  <tbody>\n",
       "    <tr>\n",
       "      <th>0</th>\n",
       "      <td>29</td>\n",
       "      <td>57</td>\n",
       "      <td>18</td>\n",
       "      <td>0.0</td>\n",
       "      <td>65.7</td>\n",
       "      <td>3.4</td>\n",
       "      <td>150</td>\n",
       "      <td>1.3</td>\n",
       "      <td>3.4</td>\n",
       "      <td>5</td>\n",
       "      <td>1</td>\n",
       "      <td>2012-06-01</td>\n",
       "    </tr>\n",
       "    <tr>\n",
       "      <th>1</th>\n",
       "      <td>29</td>\n",
       "      <td>61</td>\n",
       "      <td>13</td>\n",
       "      <td>1.3</td>\n",
       "      <td>64.4</td>\n",
       "      <td>4.1</td>\n",
       "      <td>150</td>\n",
       "      <td>1.0</td>\n",
       "      <td>3.9</td>\n",
       "      <td>4</td>\n",
       "      <td>1</td>\n",
       "      <td>2012-06-02</td>\n",
       "    </tr>\n",
       "    <tr>\n",
       "      <th>2</th>\n",
       "      <td>26</td>\n",
       "      <td>82</td>\n",
       "      <td>22</td>\n",
       "      <td>13.1</td>\n",
       "      <td>47.1</td>\n",
       "      <td>2.5</td>\n",
       "      <td>146</td>\n",
       "      <td>0.3</td>\n",
       "      <td>2.7</td>\n",
       "      <td>1</td>\n",
       "      <td>1</td>\n",
       "      <td>2012-06-03</td>\n",
       "    </tr>\n",
       "    <tr>\n",
       "      <th>3</th>\n",
       "      <td>25</td>\n",
       "      <td>89</td>\n",
       "      <td>13</td>\n",
       "      <td>2.5</td>\n",
       "      <td>28.6</td>\n",
       "      <td>1.3</td>\n",
       "      <td>136</td>\n",
       "      <td>0.0</td>\n",
       "      <td>1.7</td>\n",
       "      <td>0</td>\n",
       "      <td>1</td>\n",
       "      <td>2012-06-04</td>\n",
       "    </tr>\n",
       "    <tr>\n",
       "      <th>4</th>\n",
       "      <td>27</td>\n",
       "      <td>77</td>\n",
       "      <td>16</td>\n",
       "      <td>0.0</td>\n",
       "      <td>64.8</td>\n",
       "      <td>3.0</td>\n",
       "      <td>18</td>\n",
       "      <td>1.2</td>\n",
       "      <td>3.9</td>\n",
       "      <td>5</td>\n",
       "      <td>1</td>\n",
       "      <td>2012-06-05</td>\n",
       "    </tr>\n",
       "  </tbody>\n",
       "</table>\n",
       "</div>"
      ],
      "text/plain": [
       "   Temperature  RH  Ws  Rain  FFMC  DMC   DC  ISI  BUI  FWI  region       date\n",
       "0           29  57  18   0.0  65.7  3.4  150  1.3  3.4    5       1 2012-06-01\n",
       "1           29  61  13   1.3  64.4  4.1  150  1.0  3.9    4       1 2012-06-02\n",
       "2           26  82  22  13.1  47.1  2.5  146  0.3  2.7    1       1 2012-06-03\n",
       "3           25  89  13   2.5  28.6  1.3  136  0.0  1.7    0       1 2012-06-04\n",
       "4           27  77  16   0.0  64.8  3.0   18  1.2  3.9    5       1 2012-06-05"
      ]
     },
     "execution_count": 15,
     "metadata": {},
     "output_type": "execute_result"
    }
   ],
   "source": [
    "df.head()"
   ]
  },
  {
   "cell_type": "markdown",
   "id": "0cc48b57",
   "metadata": {},
   "source": [
    "### Checking the null values "
   ]
  },
  {
   "cell_type": "code",
   "execution_count": 16,
   "id": "2a7899f7",
   "metadata": {},
   "outputs": [
    {
     "data": {
      "text/plain": [
       "Temperature    0\n",
       "RH             0\n",
       "Ws             0\n",
       "Rain           0\n",
       "FFMC           0\n",
       "DMC            0\n",
       "DC             0\n",
       "ISI            0\n",
       "BUI            0\n",
       "FWI            0\n",
       "region         0\n",
       "date           0\n",
       "dtype: int64"
      ]
     },
     "execution_count": 16,
     "metadata": {},
     "output_type": "execute_result"
    }
   ],
   "source": [
    "df.isnull().sum()"
   ]
  },
  {
   "cell_type": "markdown",
   "id": "2fb1639c",
   "metadata": {},
   "source": [
    "### Observation\n",
    "\n",
    "Zero null value in the dataset "
   ]
  },
  {
   "cell_type": "markdown",
   "id": "ca02d3af",
   "metadata": {},
   "source": [
    "## Univariate Analysis "
   ]
  },
  {
   "cell_type": "code",
   "execution_count": 17,
   "id": "f0907811",
   "metadata": {},
   "outputs": [],
   "source": [
    "numeric_features = [feature for feature in df.columns if df[feature].dtype != 'O']"
   ]
  },
  {
   "cell_type": "code",
   "execution_count": 18,
   "id": "efb4f55f",
   "metadata": {},
   "outputs": [
    {
     "data": {
      "text/plain": [
       "['Temperature',\n",
       " 'RH',\n",
       " 'Ws',\n",
       " 'Rain',\n",
       " 'FFMC',\n",
       " 'DMC',\n",
       " 'DC',\n",
       " 'ISI',\n",
       " 'BUI',\n",
       " 'FWI',\n",
       " 'region',\n",
       " 'date']"
      ]
     },
     "execution_count": 18,
     "metadata": {},
     "output_type": "execute_result"
    }
   ],
   "source": [
    "numeric_features"
   ]
  },
  {
   "cell_type": "markdown",
   "id": "f981103f",
   "metadata": {},
   "source": [
    "### Features Information\n",
    "\n",
    "*Date : (DD/MM/YYYY) Day, month ('june' to 'september'), year (2012) Weather data observations\n",
    "\n",
    "*Temp : temperature noon (temperature max) in Celsius degrees: 22 to 42\n",
    "\n",
    "*RH : Relative Humidity in %: 21 to 90\n",
    "\n",
    "*Ws :Wind speed in km/h: 6 to 29\n",
    "\n",
    "*Rain: total day in mm: 0 to 16.8 FWI Components\n",
    "\n",
    "*Fine Fuel Moisture Code (FFMC) index from the FWI system: 28.6 to 92.5\n",
    "\n",
    "*Duff Moisture Code (DMC) index from the FWI system: 1.1 to 65.9\n",
    "\n",
    "*Drought Code (DC) index from the FWI system: 7 to 220.4\n",
    "\n",
    "*Initial Spread Index (ISI) index from the FWI system: 0 to 18.5\n",
    "\n",
    "*Buildup Index (BUI) index from the FWI system: 1.1 to 68\n",
    "\n",
    "*Fire Weather Index (FWI) Index: 0 to 31.1\n"
   ]
  },
  {
   "cell_type": "code",
   "execution_count": 19,
   "id": "63c9dabb",
   "metadata": {},
   "outputs": [
    {
     "data": {
      "image/png": "[encoded data removed]",
      "text/plain": [
       "<Figure size 1080x1080 with 12 Axes>"
      ]
     },
     "metadata": {
      "needs_background": "light"
     },
     "output_type": "display_data"
    }
   ],
   "source": [
    "plt.figure(figsize=(15, 15))\n",
    "plt.suptitle('Univariate Analysis of Numerical Features', fontsize=20, fontweight='bold', alpha=0.8, y=1.)\n",
    "\n",
    "for i in range(0, len(numeric_features)):\n",
    "    plt.subplot(5, 3, i+1)\n",
    "    sns.kdeplot(x=df[numeric_features[i]],shade=True, color='r')\n",
    "    plt.xlabel(numeric_features[i])\n",
    "    plt.tight_layout()"
   ]
  },
  {
   "cell_type": "markdown",
   "id": "dca8e285",
   "metadata": {},
   "source": [
    "### Visualization of Target Feature "
   ]
  },
  {
   "cell_type": "code",
   "execution_count": 20,
   "id": "96c2ecbf",
   "metadata": {},
   "outputs": [
    {
     "data": {
      "image/png": "[encoded data removed]",
      "text/plain": [
       "<Figure size 1008x504 with 1 Axes>"
      ]
     },
     "metadata": {
      "needs_background": "light"
     },
     "output_type": "display_data"
    }
   ],
   "source": [
    "plt.subplots(figsize=(14,7))\n",
    "sns.histplot(x=df.Temperature, ec = \"black\", color='blue', kde=True)\n",
    "plt.title(\"Temperature Distribution\", weight=\"bold\",fontsize=20, pad=20)\n",
    "plt.ylabel(\"Count\", weight=\"bold\", fontsize=15)\n",
    "plt.xlabel(\"Temperatures\", weight=\"bold\", fontsize=12)\n",
    "plt.show()"
   ]
  },
  {
   "cell_type": "markdown",
   "id": "0c5ddd93",
   "metadata": {},
   "source": [
    "### Observation\n",
    "\n",
    "Temperature occur most of the time in range 32.5 to 35.0"
   ]
  },
  {
   "cell_type": "markdown",
   "id": "75bdc10c",
   "metadata": {},
   "source": [
    "### Temperature Vs Rain "
   ]
  },
  {
   "cell_type": "code",
   "execution_count": 21,
   "id": "2707a093",
   "metadata": {},
   "outputs": [
    {
     "data": {
      "text/plain": [
       "<AxesSubplot:xlabel='Temperature', ylabel='Rain'>"
      ]
     },
     "execution_count": 21,
     "metadata": {},
     "output_type": "execute_result"
    },
    {
     "data": {
      "image/png": "[encoded data removed]",
      "text/plain": [
       "<Figure size 1440x720 with 1 Axes>"
      ]
     },
     "metadata": {
      "needs_background": "light"
     },
     "output_type": "display_data"
    }
   ],
   "source": [
    "import matplotlib\n",
    "matplotlib.rcParams['figure.figsize']=(20,10)\n",
    "\n",
    "sns.barplot(x=\"Temperature\",y=\"Rain\",data=df)"
   ]
  },
  {
   "cell_type": "markdown",
   "id": "25d62762",
   "metadata": {},
   "source": [
    "### Observation\n",
    "\n",
    "When the temperature is around 22 , most of the time rain occurr"
   ]
  },
  {
   "cell_type": "markdown",
   "id": "cfab279f",
   "metadata": {},
   "source": [
    "### Which region has most temperature? "
   ]
  },
  {
   "cell_type": "code",
   "execution_count": 22,
   "id": "c732c258",
   "metadata": {},
   "outputs": [
    {
     "data": {
      "text/plain": [
       "<AxesSubplot:xlabel='region', ylabel='Temperature'>"
      ]
     },
     "execution_count": 22,
     "metadata": {},
     "output_type": "execute_result"
    },
    {
     "data": {
      "image/png": "[encoded data removed]",
      "text/plain": [
       "<Figure size 1440x720 with 1 Axes>"
      ]
     },
     "metadata": {
      "needs_background": "light"
     },
     "output_type": "display_data"
    }
   ],
   "source": [
    "import matplotlib\n",
    "matplotlib.rcParams['figure.figsize']=(20,10)\n",
    "\n",
    "sns.barplot(x=\"region\",y=\"Temperature\",data=df)"
   ]
  },
  {
   "cell_type": "markdown",
   "id": "7b1b8459",
   "metadata": {},
   "source": [
    "### Observation \n",
    "\n",
    "Region represented by 0 i.e. 'Sidi-Bel Abbes' has highest temperature"
   ]
  },
  {
   "cell_type": "markdown",
   "id": "f8ea95fc",
   "metadata": {},
   "source": [
    "### Correlation of the features "
   ]
  },
  {
   "cell_type": "code",
   "execution_count": 23,
   "id": "aaba6036",
   "metadata": {},
   "outputs": [
    {
     "data": {
      "text/html": [
       "<div>\n",
       "<style scoped>\n",
       "    .dataframe tbody tr th:only-of-type {\n",
       "        vertical-align: middle;\n",
       "    }\n",
       "\n",
       "    .dataframe tbody tr th {\n",
       "        vertical-align: top;\n",
       "    }\n",
       "\n",
       "    .dataframe thead th {\n",
       "        text-align: right;\n",
       "    }\n",
       "</style>\n",
       "<table border=\"1\" class=\"dataframe\">\n",
       "  <thead>\n",
       "    <tr style=\"text-align: right;\">\n",
       "      <th></th>\n",
       "      <th>Temperature</th>\n",
       "      <th>RH</th>\n",
       "      <th>Ws</th>\n",
       "      <th>Rain</th>\n",
       "      <th>FFMC</th>\n",
       "      <th>DMC</th>\n",
       "      <th>DC</th>\n",
       "      <th>ISI</th>\n",
       "      <th>BUI</th>\n",
       "      <th>FWI</th>\n",
       "      <th>region</th>\n",
       "    </tr>\n",
       "  </thead>\n",
       "  <tbody>\n",
       "    <tr>\n",
       "      <th>Temperature</th>\n",
       "      <td>1.000000</td>\n",
       "      <td>-0.654443</td>\n",
       "      <td>-0.278132</td>\n",
       "      <td>-0.326786</td>\n",
       "      <td>0.677491</td>\n",
       "      <td>0.483105</td>\n",
       "      <td>-0.165840</td>\n",
       "      <td>0.607551</td>\n",
       "      <td>0.455504</td>\n",
       "      <td>0.380581</td>\n",
       "      <td>-0.273496</td>\n",
       "    </tr>\n",
       "    <tr>\n",
       "      <th>RH</th>\n",
       "      <td>-0.654443</td>\n",
       "      <td>1.000000</td>\n",
       "      <td>0.236084</td>\n",
       "      <td>0.222968</td>\n",
       "      <td>-0.645658</td>\n",
       "      <td>-0.405133</td>\n",
       "      <td>0.041651</td>\n",
       "      <td>-0.690637</td>\n",
       "      <td>-0.348587</td>\n",
       "      <td>-0.295093</td>\n",
       "      <td>0.406424</td>\n",
       "    </tr>\n",
       "    <tr>\n",
       "      <th>Ws</th>\n",
       "      <td>-0.278132</td>\n",
       "      <td>0.236084</td>\n",
       "      <td>1.000000</td>\n",
       "      <td>0.170169</td>\n",
       "      <td>-0.163255</td>\n",
       "      <td>-0.001246</td>\n",
       "      <td>0.040958</td>\n",
       "      <td>0.015248</td>\n",
       "      <td>0.029756</td>\n",
       "      <td>-0.081447</td>\n",
       "      <td>0.176829</td>\n",
       "    </tr>\n",
       "    <tr>\n",
       "      <th>Rain</th>\n",
       "      <td>-0.326786</td>\n",
       "      <td>0.222968</td>\n",
       "      <td>0.170169</td>\n",
       "      <td>1.000000</td>\n",
       "      <td>-0.544045</td>\n",
       "      <td>-0.288548</td>\n",
       "      <td>0.324748</td>\n",
       "      <td>-0.347105</td>\n",
       "      <td>-0.299171</td>\n",
       "      <td>-0.340412</td>\n",
       "      <td>0.041080</td>\n",
       "    </tr>\n",
       "    <tr>\n",
       "      <th>FFMC</th>\n",
       "      <td>0.677491</td>\n",
       "      <td>-0.645658</td>\n",
       "      <td>-0.163255</td>\n",
       "      <td>-0.544045</td>\n",
       "      <td>1.000000</td>\n",
       "      <td>0.602391</td>\n",
       "      <td>-0.319086</td>\n",
       "      <td>0.739730</td>\n",
       "      <td>0.589652</td>\n",
       "      <td>0.617445</td>\n",
       "      <td>-0.224680</td>\n",
       "    </tr>\n",
       "    <tr>\n",
       "      <th>DMC</th>\n",
       "      <td>0.483105</td>\n",
       "      <td>-0.405133</td>\n",
       "      <td>-0.001246</td>\n",
       "      <td>-0.288548</td>\n",
       "      <td>0.602391</td>\n",
       "      <td>1.000000</td>\n",
       "      <td>-0.200609</td>\n",
       "      <td>0.674499</td>\n",
       "      <td>0.982073</td>\n",
       "      <td>0.384628</td>\n",
       "      <td>-0.191094</td>\n",
       "    </tr>\n",
       "    <tr>\n",
       "      <th>DC</th>\n",
       "      <td>-0.165840</td>\n",
       "      <td>0.041651</td>\n",
       "      <td>0.040958</td>\n",
       "      <td>0.324748</td>\n",
       "      <td>-0.319086</td>\n",
       "      <td>-0.200609</td>\n",
       "      <td>1.000000</td>\n",
       "      <td>-0.152717</td>\n",
       "      <td>-0.226445</td>\n",
       "      <td>-0.118684</td>\n",
       "      <td>0.016293</td>\n",
       "    </tr>\n",
       "    <tr>\n",
       "      <th>ISI</th>\n",
       "      <td>0.607551</td>\n",
       "      <td>-0.690637</td>\n",
       "      <td>0.015248</td>\n",
       "      <td>-0.347105</td>\n",
       "      <td>0.739730</td>\n",
       "      <td>0.674499</td>\n",
       "      <td>-0.152717</td>\n",
       "      <td>1.000000</td>\n",
       "      <td>0.635891</td>\n",
       "      <td>0.412512</td>\n",
       "      <td>-0.268421</td>\n",
       "    </tr>\n",
       "    <tr>\n",
       "      <th>BUI</th>\n",
       "      <td>0.455504</td>\n",
       "      <td>-0.348587</td>\n",
       "      <td>0.029756</td>\n",
       "      <td>-0.299171</td>\n",
       "      <td>0.589652</td>\n",
       "      <td>0.982073</td>\n",
       "      <td>-0.226445</td>\n",
       "      <td>0.635891</td>\n",
       "      <td>1.000000</td>\n",
       "      <td>0.375234</td>\n",
       "      <td>-0.087370</td>\n",
       "    </tr>\n",
       "    <tr>\n",
       "      <th>FWI</th>\n",
       "      <td>0.380581</td>\n",
       "      <td>-0.295093</td>\n",
       "      <td>-0.081447</td>\n",
       "      <td>-0.340412</td>\n",
       "      <td>0.617445</td>\n",
       "      <td>0.384628</td>\n",
       "      <td>-0.118684</td>\n",
       "      <td>0.412512</td>\n",
       "      <td>0.375234</td>\n",
       "      <td>1.000000</td>\n",
       "      <td>-0.108099</td>\n",
       "    </tr>\n",
       "    <tr>\n",
       "      <th>region</th>\n",
       "      <td>-0.273496</td>\n",
       "      <td>0.406424</td>\n",
       "      <td>0.176829</td>\n",
       "      <td>0.041080</td>\n",
       "      <td>-0.224680</td>\n",
       "      <td>-0.191094</td>\n",
       "      <td>0.016293</td>\n",
       "      <td>-0.268421</td>\n",
       "      <td>-0.087370</td>\n",
       "      <td>-0.108099</td>\n",
       "      <td>1.000000</td>\n",
       "    </tr>\n",
       "  </tbody>\n",
       "</table>\n",
       "</div>"
      ],
      "text/plain": [
       "             Temperature        RH        Ws      Rain      FFMC       DMC  \\\n",
       "Temperature     1.000000 -0.654443 -0.278132 -0.326786  0.677491  0.483105   \n",
       "RH             -0.654443  1.000000  0.236084  0.222968 -0.645658 -0.405133   \n",
       "Ws             -0.278132  0.236084  1.000000  0.170169 -0.163255 -0.001246   \n",
       "Rain           -0.326786  0.222968  0.170169  1.000000 -0.544045 -0.288548   \n",
       "FFMC            0.677491 -0.645658 -0.163255 -0.544045  1.000000  0.602391   \n",
       "DMC             0.483105 -0.405133 -0.001246 -0.288548  0.602391  1.000000   \n",
       "DC             -0.165840  0.041651  0.040958  0.324748 -0.319086 -0.200609   \n",
       "ISI             0.607551 -0.690637  0.015248 -0.347105  0.739730  0.674499   \n",
       "BUI             0.455504 -0.348587  0.029756 -0.299171  0.589652  0.982073   \n",
       "FWI             0.380581 -0.295093 -0.081447 -0.340412  0.617445  0.384628   \n",
       "region         -0.273496  0.406424  0.176829  0.041080 -0.224680 -0.191094   \n",
       "\n",
       "                   DC       ISI       BUI       FWI    region  \n",
       "Temperature -0.165840  0.607551  0.455504  0.380581 -0.273496  \n",
       "RH           0.041651 -0.690637 -0.348587 -0.295093  0.406424  \n",
       "Ws           0.040958  0.015248  0.029756 -0.081447  0.176829  \n",
       "Rain         0.324748 -0.347105 -0.299171 -0.340412  0.041080  \n",
       "FFMC        -0.319086  0.739730  0.589652  0.617445 -0.224680  \n",
       "DMC         -0.200609  0.674499  0.982073  0.384628 -0.191094  \n",
       "DC           1.000000 -0.152717 -0.226445 -0.118684  0.016293  \n",
       "ISI         -0.152717  1.000000  0.635891  0.412512 -0.268421  \n",
       "BUI         -0.226445  0.635891  1.000000  0.375234 -0.087370  \n",
       "FWI         -0.118684  0.412512  0.375234  1.000000 -0.108099  \n",
       "region       0.016293 -0.268421 -0.087370 -0.108099  1.000000  "
      ]
     },
     "execution_count": 23,
     "metadata": {},
     "output_type": "execute_result"
    }
   ],
   "source": [
    "df.corr()"
   ]
  },
  {
   "cell_type": "markdown",
   "id": "229b5bd1",
   "metadata": {},
   "source": [
    "## Multivariate analysis "
   ]
  },
  {
   "cell_type": "code",
   "execution_count": 24,
   "id": "408129c6",
   "metadata": {},
   "outputs": [
    {
     "data": {
      "text/plain": [
       "<AxesSubplot:>"
      ]
     },
     "execution_count": 24,
     "metadata": {},
     "output_type": "execute_result"
    },
    {
     "data": {
      "image/png": "[encoded data removed]",
      "text/plain": [
       "<Figure size 720x576 with 2 Axes>"
      ]
     },
     "metadata": {
      "needs_background": "light"
     },
     "output_type": "display_data"
    }
   ],
   "source": [
    "import seaborn as sns\n",
    "plt.figure(figsize=(10,8))\n",
    "sns.heatmap(df.corr())"
   ]
  },
  {
   "cell_type": "markdown",
   "id": "158bcef8",
   "metadata": {},
   "source": [
    "### Observation\n",
    "\n",
    "The target feature Temperature is highly positively correlated with FFMC,ISI"
   ]
  },
  {
   "cell_type": "markdown",
   "id": "be0a81f7",
   "metadata": {},
   "source": [
    "### Temperature Vs date feature "
   ]
  },
  {
   "cell_type": "code",
   "execution_count": 25,
   "id": "e1ef8c83",
   "metadata": {},
   "outputs": [
    {
     "data": {
      "text/plain": [
       "<AxesSubplot:xlabel='Temperature', ylabel='date'>"
      ]
     },
     "execution_count": 25,
     "metadata": {},
     "output_type": "execute_result"
    },
    {
     "data": {
      "image/png": "[encoded data removed]",
      "text/plain": [
       "<Figure size 576x576 with 1 Axes>"
      ]
     },
     "metadata": {
      "needs_background": "light"
     },
     "output_type": "display_data"
    }
   ],
   "source": [
    "plt.figure(figsize=(8,8))\n",
    "sns.lineplot(x='Temperature',y='date',data=df,color='r')"
   ]
  },
  {
   "cell_type": "markdown",
   "id": "2b4ba239",
   "metadata": {},
   "source": [
    "### Temperature Vs FFMC "
   ]
  },
  {
   "cell_type": "code",
   "execution_count": 26,
   "id": "7af70a57",
   "metadata": {},
   "outputs": [
    {
     "data": {
      "text/plain": [
       "<seaborn.axisgrid.JointGrid at 0x2505551ca60>"
      ]
     },
     "execution_count": 26,
     "metadata": {},
     "output_type": "execute_result"
    },
    {
     "data": {
      "text/plain": [
       "<Figure size 720x720 with 0 Axes>"
      ]
     },
     "metadata": {},
     "output_type": "display_data"
    },
    {
     "data": {
      "image/png": "[encoded data removed]",
      "text/plain": [
       "<Figure size 432x432 with 3 Axes>"
      ]
     },
     "metadata": {
      "needs_background": "light"
     },
     "output_type": "display_data"
    }
   ],
   "source": [
    "plt.figure(figsize=(10,10))\n",
    "sns.jointplot(x='Temperature',y='FFMC',data=df,color='g')"
   ]
  },
  {
   "cell_type": "markdown",
   "id": "16b59b5c",
   "metadata": {},
   "source": [
    "### Temperature Vs ISI "
   ]
  },
  {
   "cell_type": "code",
   "execution_count": 27,
   "id": "1ff9d073",
   "metadata": {},
   "outputs": [
    {
     "data": {
      "text/plain": [
       "<AxesSubplot:xlabel='Temperature', ylabel='ISI'>"
      ]
     },
     "execution_count": 27,
     "metadata": {},
     "output_type": "execute_result"
    },
    {
     "data": {
      "image/png": "[encoded data removed]",
      "text/plain": [
       "<Figure size 720x720 with 1 Axes>"
      ]
     },
     "metadata": {
      "needs_background": "light"
     },
     "output_type": "display_data"
    }
   ],
   "source": [
    "plt.figure(figsize=(10,10))\n",
    "sns.regplot(x='Temperature',y='ISI',data=df)"
   ]
  },
  {
   "cell_type": "markdown",
   "id": "e0fc305b",
   "metadata": {},
   "source": [
    "### Checking the outliers of the target 'Temperature' feature "
   ]
  },
  {
   "cell_type": "code",
   "execution_count": 28,
   "id": "18999330",
   "metadata": {},
   "outputs": [
    {
     "data": {
      "text/plain": [
       "<AxesSubplot:xlabel='Temperature'>"
      ]
     },
     "execution_count": 28,
     "metadata": {},
     "output_type": "execute_result"
    },
    {
     "data": {
      "image/png": "[encoded data removed]",
      "text/plain": [
       "<Figure size 1440x720 with 1 Axes>"
      ]
     },
     "metadata": {
      "needs_background": "light"
     },
     "output_type": "display_data"
    }
   ],
   "source": [
    "sns.boxplot(df['Temperature'])"
   ]
  },
  {
   "cell_type": "markdown",
   "id": "571a15f7",
   "metadata": {},
   "source": [
    "### Boxplot of Rain Vs Temperature "
   ]
  },
  {
   "cell_type": "code",
   "execution_count": 29,
   "id": "182c0eff",
   "metadata": {},
   "outputs": [
    {
     "data": {
      "text/plain": [
       "<AxesSubplot:xlabel='Temperature', ylabel='Rain'>"
      ]
     },
     "execution_count": 29,
     "metadata": {},
     "output_type": "execute_result"
    },
    {
     "data": {
      "image/png": "[encoded data removed]",
      "text/plain": [
       "<Figure size 1440x720 with 1 Axes>"
      ]
     },
     "metadata": {
      "needs_background": "light"
     },
     "output_type": "display_data"
    }
   ],
   "source": [
    "sns.boxplot(x ='Temperature', y ='Rain', data = df)"
   ]
  },
  {
   "cell_type": "markdown",
   "id": "88ae4c5f",
   "metadata": {},
   "source": [
    "### Boxplot of 'FFMC' Vs Temperature"
   ]
  },
  {
   "cell_type": "code",
   "execution_count": 30,
   "id": "0ba3d793",
   "metadata": {},
   "outputs": [
    {
     "data": {
      "text/plain": [
       "<AxesSubplot:xlabel='Temperature', ylabel='FFMC'>"
      ]
     },
     "execution_count": 30,
     "metadata": {},
     "output_type": "execute_result"
    },
    {
     "data": {
      "image/png": "[encoded data removed]",
      "text/plain": [
       "<Figure size 1440x720 with 1 Axes>"
      ]
     },
     "metadata": {
      "needs_background": "light"
     },
     "output_type": "display_data"
    }
   ],
   "source": [
    "sns.boxplot(x ='Temperature', y ='FFMC', data = df)"
   ]
  },
  {
   "cell_type": "markdown",
   "id": "1df5a008",
   "metadata": {},
   "source": [
    "### Boxplot of ISI Vs Temperature "
   ]
  },
  {
   "cell_type": "code",
   "execution_count": 31,
   "id": "0aaeec8a",
   "metadata": {},
   "outputs": [
    {
     "data": {
      "text/plain": [
       "<AxesSubplot:xlabel='Temperature', ylabel='ISI'>"
      ]
     },
     "execution_count": 31,
     "metadata": {},
     "output_type": "execute_result"
    },
    {
     "data": {
      "image/png": "[encoded data removed]",
      "text/plain": [
       "<Figure size 1440x720 with 1 Axes>"
      ]
     },
     "metadata": {
      "needs_background": "light"
     },
     "output_type": "display_data"
    }
   ],
   "source": [
    "sns.boxplot(x ='Temperature', y ='ISI', data = df)"
   ]
  },
  {
   "cell_type": "markdown",
   "id": "596d5180",
   "metadata": {},
   "source": [
    "### Boxplot of region Vs Temperature "
   ]
  },
  {
   "cell_type": "code",
   "execution_count": 32,
   "id": "8bd9ccde",
   "metadata": {},
   "outputs": [
    {
     "data": {
      "text/plain": [
       "<AxesSubplot:xlabel='region', ylabel='Temperature'>"
      ]
     },
     "execution_count": 32,
     "metadata": {},
     "output_type": "execute_result"
    },
    {
     "data": {
      "image/png": "[encoded data removed]",
      "text/plain": [
       "<Figure size 1440x720 with 1 Axes>"
      ]
     },
     "metadata": {
      "needs_background": "light"
     },
     "output_type": "display_data"
    }
   ],
   "source": [
    "sns.boxplot(x ='region', y ='Temperature', data = df)"
   ]
  },
  {
   "cell_type": "markdown",
   "id": "804b4f23",
   "metadata": {},
   "source": [
    "### Boxplot of BUI Vs Temperature "
   ]
  },
  {
   "cell_type": "code",
   "execution_count": 33,
   "id": "968e6e74",
   "metadata": {},
   "outputs": [
    {
     "data": {
      "text/plain": [
       "<AxesSubplot:xlabel='Temperature', ylabel='BUI'>"
      ]
     },
     "execution_count": 33,
     "metadata": {},
     "output_type": "execute_result"
    },
    {
     "data": {
      "image/png": "[encoded data removed]",
      "text/plain": [
       "<Figure size 1440x720 with 1 Axes>"
      ]
     },
     "metadata": {
      "needs_background": "light"
     },
     "output_type": "display_data"
    }
   ],
   "source": [
    "sns.boxplot(x ='Temperature', y ='BUI', data = df)"
   ]
  },
  {
   "cell_type": "markdown",
   "id": "406749cd",
   "metadata": {},
   "source": [
    "### Boxplot DMC Vs Temperature "
   ]
  },
  {
   "cell_type": "code",
   "execution_count": 34,
   "id": "bc207f8a",
   "metadata": {},
   "outputs": [
    {
     "data": {
      "text/plain": [
       "<AxesSubplot:xlabel='Temperature', ylabel='DMC'>"
      ]
     },
     "execution_count": 34,
     "metadata": {},
     "output_type": "execute_result"
    },
    {
     "data": {
      "image/png": "[encoded data removed]",
      "text/plain": [
       "<Figure size 1440x720 with 1 Axes>"
      ]
     },
     "metadata": {
      "needs_background": "light"
     },
     "output_type": "display_data"
    }
   ],
   "source": [
    "sns.boxplot(x ='Temperature', y ='DMC', data = df)"
   ]
  },
  {
   "cell_type": "markdown",
   "id": "03291bb5",
   "metadata": {},
   "source": [
    "### Creating Dependent and Independent features "
   ]
  },
  {
   "cell_type": "code",
   "execution_count": 35,
   "id": "189b0639",
   "metadata": {},
   "outputs": [
    {
     "data": {
      "text/plain": [
       "Index(['Temperature', 'RH', 'Ws', 'Rain', 'FFMC', 'DMC', 'DC', 'ISI', 'BUI',\n",
       "       'FWI', 'region', 'date'],\n",
       "      dtype='object')"
      ]
     },
     "execution_count": 35,
     "metadata": {},
     "output_type": "execute_result"
    }
   ],
   "source": [
    "df.columns"
   ]
  },
  {
   "cell_type": "code",
   "execution_count": 36,
   "id": "3038ba8d",
   "metadata": {},
   "outputs": [],
   "source": [
    "## Independent Features\n",
    "\n",
    "x=pd.DataFrame(df, columns=['RH','Ws','Rain','FFMC','DMC','DC','ISI','BUI','FWI','region'])  \n",
    "\n",
    "## Dependent Features\n",
    "\n",
    "y=pd.DataFrame(df,columns=['Temperature'])"
   ]
  },
  {
   "cell_type": "markdown",
   "id": "ef08defa",
   "metadata": {},
   "source": [
    "### Independent Features "
   ]
  },
  {
   "cell_type": "code",
   "execution_count": 37,
   "id": "66d58f82",
   "metadata": {},
   "outputs": [
    {
     "data": {
      "text/html": [
       "<div>\n",
       "<style scoped>\n",
       "    .dataframe tbody tr th:only-of-type {\n",
       "        vertical-align: middle;\n",
       "    }\n",
       "\n",
       "    .dataframe tbody tr th {\n",
       "        vertical-align: top;\n",
       "    }\n",
       "\n",
       "    .dataframe thead th {\n",
       "        text-align: right;\n",
       "    }\n",
       "</style>\n",
       "<table border=\"1\" class=\"dataframe\">\n",
       "  <thead>\n",
       "    <tr style=\"text-align: right;\">\n",
       "      <th></th>\n",
       "      <th>RH</th>\n",
       "      <th>Ws</th>\n",
       "      <th>Rain</th>\n",
       "      <th>FFMC</th>\n",
       "      <th>DMC</th>\n",
       "      <th>DC</th>\n",
       "      <th>ISI</th>\n",
       "      <th>BUI</th>\n",
       "      <th>FWI</th>\n",
       "      <th>region</th>\n",
       "    </tr>\n",
       "  </thead>\n",
       "  <tbody>\n",
       "    <tr>\n",
       "      <th>0</th>\n",
       "      <td>57</td>\n",
       "      <td>18</td>\n",
       "      <td>0.0</td>\n",
       "      <td>65.7</td>\n",
       "      <td>3.4</td>\n",
       "      <td>150</td>\n",
       "      <td>1.3</td>\n",
       "      <td>3.4</td>\n",
       "      <td>5</td>\n",
       "      <td>1</td>\n",
       "    </tr>\n",
       "    <tr>\n",
       "      <th>1</th>\n",
       "      <td>61</td>\n",
       "      <td>13</td>\n",
       "      <td>1.3</td>\n",
       "      <td>64.4</td>\n",
       "      <td>4.1</td>\n",
       "      <td>150</td>\n",
       "      <td>1.0</td>\n",
       "      <td>3.9</td>\n",
       "      <td>4</td>\n",
       "      <td>1</td>\n",
       "    </tr>\n",
       "    <tr>\n",
       "      <th>2</th>\n",
       "      <td>82</td>\n",
       "      <td>22</td>\n",
       "      <td>13.1</td>\n",
       "      <td>47.1</td>\n",
       "      <td>2.5</td>\n",
       "      <td>146</td>\n",
       "      <td>0.3</td>\n",
       "      <td>2.7</td>\n",
       "      <td>1</td>\n",
       "      <td>1</td>\n",
       "    </tr>\n",
       "    <tr>\n",
       "      <th>3</th>\n",
       "      <td>89</td>\n",
       "      <td>13</td>\n",
       "      <td>2.5</td>\n",
       "      <td>28.6</td>\n",
       "      <td>1.3</td>\n",
       "      <td>136</td>\n",
       "      <td>0.0</td>\n",
       "      <td>1.7</td>\n",
       "      <td>0</td>\n",
       "      <td>1</td>\n",
       "    </tr>\n",
       "    <tr>\n",
       "      <th>4</th>\n",
       "      <td>77</td>\n",
       "      <td>16</td>\n",
       "      <td>0.0</td>\n",
       "      <td>64.8</td>\n",
       "      <td>3.0</td>\n",
       "      <td>18</td>\n",
       "      <td>1.2</td>\n",
       "      <td>3.9</td>\n",
       "      <td>5</td>\n",
       "      <td>1</td>\n",
       "    </tr>\n",
       "    <tr>\n",
       "      <th>...</th>\n",
       "      <td>...</td>\n",
       "      <td>...</td>\n",
       "      <td>...</td>\n",
       "      <td>...</td>\n",
       "      <td>...</td>\n",
       "      <td>...</td>\n",
       "      <td>...</td>\n",
       "      <td>...</td>\n",
       "      <td>...</td>\n",
       "      <td>...</td>\n",
       "    </tr>\n",
       "    <tr>\n",
       "      <th>239</th>\n",
       "      <td>65</td>\n",
       "      <td>14</td>\n",
       "      <td>0.0</td>\n",
       "      <td>85.4</td>\n",
       "      <td>16.0</td>\n",
       "      <td>112</td>\n",
       "      <td>4.5</td>\n",
       "      <td>16.9</td>\n",
       "      <td>106</td>\n",
       "      <td>0</td>\n",
       "    </tr>\n",
       "    <tr>\n",
       "      <th>240</th>\n",
       "      <td>87</td>\n",
       "      <td>15</td>\n",
       "      <td>4.4</td>\n",
       "      <td>41.1</td>\n",
       "      <td>6.5</td>\n",
       "      <td>164</td>\n",
       "      <td>0.1</td>\n",
       "      <td>6.2</td>\n",
       "      <td>0</td>\n",
       "      <td>0</td>\n",
       "    </tr>\n",
       "    <tr>\n",
       "      <th>241</th>\n",
       "      <td>87</td>\n",
       "      <td>29</td>\n",
       "      <td>0.5</td>\n",
       "      <td>45.9</td>\n",
       "      <td>3.5</td>\n",
       "      <td>153</td>\n",
       "      <td>0.4</td>\n",
       "      <td>3.4</td>\n",
       "      <td>2</td>\n",
       "      <td>0</td>\n",
       "    </tr>\n",
       "    <tr>\n",
       "      <th>242</th>\n",
       "      <td>54</td>\n",
       "      <td>18</td>\n",
       "      <td>0.1</td>\n",
       "      <td>79.7</td>\n",
       "      <td>4.3</td>\n",
       "      <td>25</td>\n",
       "      <td>1.7</td>\n",
       "      <td>5.1</td>\n",
       "      <td>7</td>\n",
       "      <td>0</td>\n",
       "    </tr>\n",
       "    <tr>\n",
       "      <th>243</th>\n",
       "      <td>64</td>\n",
       "      <td>15</td>\n",
       "      <td>0.2</td>\n",
       "      <td>67.3</td>\n",
       "      <td>3.8</td>\n",
       "      <td>34</td>\n",
       "      <td>1.2</td>\n",
       "      <td>4.8</td>\n",
       "      <td>5</td>\n",
       "      <td>0</td>\n",
       "    </tr>\n",
       "  </tbody>\n",
       "</table>\n",
       "<p>244 rows × 10 columns</p>\n",
       "</div>"
      ],
      "text/plain": [
       "     RH  Ws  Rain  FFMC   DMC   DC  ISI   BUI  FWI  region\n",
       "0    57  18   0.0  65.7   3.4  150  1.3   3.4    5       1\n",
       "1    61  13   1.3  64.4   4.1  150  1.0   3.9    4       1\n",
       "2    82  22  13.1  47.1   2.5  146  0.3   2.7    1       1\n",
       "3    89  13   2.5  28.6   1.3  136  0.0   1.7    0       1\n",
       "4    77  16   0.0  64.8   3.0   18  1.2   3.9    5       1\n",
       "..   ..  ..   ...   ...   ...  ...  ...   ...  ...     ...\n",
       "239  65  14   0.0  85.4  16.0  112  4.5  16.9  106       0\n",
       "240  87  15   4.4  41.1   6.5  164  0.1   6.2    0       0\n",
       "241  87  29   0.5  45.9   3.5  153  0.4   3.4    2       0\n",
       "242  54  18   0.1  79.7   4.3   25  1.7   5.1    7       0\n",
       "243  64  15   0.2  67.3   3.8   34  1.2   4.8    5       0\n",
       "\n",
       "[244 rows x 10 columns]"
      ]
     },
     "execution_count": 37,
     "metadata": {},
     "output_type": "execute_result"
    }
   ],
   "source": [
    "x"
   ]
  },
  {
   "cell_type": "markdown",
   "id": "82e97fc2",
   "metadata": {},
   "source": [
    "### Dependent Features "
   ]
  },
  {
   "cell_type": "code",
   "execution_count": 38,
   "id": "a2f8b2be",
   "metadata": {},
   "outputs": [
    {
     "data": {
      "text/html": [
       "<div>\n",
       "<style scoped>\n",
       "    .dataframe tbody tr th:only-of-type {\n",
       "        vertical-align: middle;\n",
       "    }\n",
       "\n",
       "    .dataframe tbody tr th {\n",
       "        vertical-align: top;\n",
       "    }\n",
       "\n",
       "    .dataframe thead th {\n",
       "        text-align: right;\n",
       "    }\n",
       "</style>\n",
       "<table border=\"1\" class=\"dataframe\">\n",
       "  <thead>\n",
       "    <tr style=\"text-align: right;\">\n",
       "      <th></th>\n",
       "      <th>Temperature</th>\n",
       "    </tr>\n",
       "  </thead>\n",
       "  <tbody>\n",
       "    <tr>\n",
       "      <th>0</th>\n",
       "      <td>29</td>\n",
       "    </tr>\n",
       "    <tr>\n",
       "      <th>1</th>\n",
       "      <td>29</td>\n",
       "    </tr>\n",
       "    <tr>\n",
       "      <th>2</th>\n",
       "      <td>26</td>\n",
       "    </tr>\n",
       "    <tr>\n",
       "      <th>3</th>\n",
       "      <td>25</td>\n",
       "    </tr>\n",
       "    <tr>\n",
       "      <th>4</th>\n",
       "      <td>27</td>\n",
       "    </tr>\n",
       "    <tr>\n",
       "      <th>...</th>\n",
       "      <td>...</td>\n",
       "    </tr>\n",
       "    <tr>\n",
       "      <th>239</th>\n",
       "      <td>30</td>\n",
       "    </tr>\n",
       "    <tr>\n",
       "      <th>240</th>\n",
       "      <td>28</td>\n",
       "    </tr>\n",
       "    <tr>\n",
       "      <th>241</th>\n",
       "      <td>27</td>\n",
       "    </tr>\n",
       "    <tr>\n",
       "      <th>242</th>\n",
       "      <td>24</td>\n",
       "    </tr>\n",
       "    <tr>\n",
       "      <th>243</th>\n",
       "      <td>24</td>\n",
       "    </tr>\n",
       "  </tbody>\n",
       "</table>\n",
       "<p>244 rows × 1 columns</p>\n",
       "</div>"
      ],
      "text/plain": [
       "     Temperature\n",
       "0             29\n",
       "1             29\n",
       "2             26\n",
       "3             25\n",
       "4             27\n",
       "..           ...\n",
       "239           30\n",
       "240           28\n",
       "241           27\n",
       "242           24\n",
       "243           24\n",
       "\n",
       "[244 rows x 1 columns]"
      ]
     },
     "execution_count": 38,
     "metadata": {},
     "output_type": "execute_result"
    }
   ],
   "source": [
    "y"
   ]
  },
  {
   "cell_type": "markdown",
   "id": "e1d548dc",
   "metadata": {},
   "source": [
    "# TrainTest Split"
   ]
  },
  {
   "cell_type": "code",
   "execution_count": 39,
   "id": "0905b46f",
   "metadata": {},
   "outputs": [],
   "source": [
    "from sklearn.model_selection import train_test_split\n",
    "\n",
    "x_train,x_test,y_train,y_test=train_test_split(\n",
    "x,y,test_size=0.33,random_state=10)"
   ]
  },
  {
   "cell_type": "code",
   "execution_count": 40,
   "id": "a09b1e79",
   "metadata": {},
   "outputs": [
    {
     "data": {
      "text/plain": [
       "(163, 10)"
      ]
     },
     "execution_count": 40,
     "metadata": {},
     "output_type": "execute_result"
    }
   ],
   "source": [
    "x_train.shape"
   ]
  },
  {
   "cell_type": "code",
   "execution_count": 41,
   "id": "ce151b8a",
   "metadata": {},
   "outputs": [
    {
     "data": {
      "text/plain": [
       "(81, 10)"
      ]
     },
     "execution_count": 41,
     "metadata": {},
     "output_type": "execute_result"
    }
   ],
   "source": [
    "x_test.shape"
   ]
  },
  {
   "cell_type": "code",
   "execution_count": 42,
   "id": "7fa8d22b",
   "metadata": {},
   "outputs": [
    {
     "data": {
      "text/plain": [
       "(163, 1)"
      ]
     },
     "execution_count": 42,
     "metadata": {},
     "output_type": "execute_result"
    }
   ],
   "source": [
    "y_train.shape"
   ]
  },
  {
   "cell_type": "code",
   "execution_count": 43,
   "id": "078a427e",
   "metadata": {},
   "outputs": [
    {
     "data": {
      "text/plain": [
       "(81, 1)"
      ]
     },
     "execution_count": 43,
     "metadata": {},
     "output_type": "execute_result"
    }
   ],
   "source": [
    "y_test.shape"
   ]
  },
  {
   "cell_type": "markdown",
   "id": "00db8fd1",
   "metadata": {},
   "source": [
    "#### Independent training dataset "
   ]
  },
  {
   "cell_type": "code",
   "execution_count": 44,
   "id": "fc53a7e5",
   "metadata": {},
   "outputs": [
    {
     "data": {
      "text/html": [
       "<div>\n",
       "<style scoped>\n",
       "    .dataframe tbody tr th:only-of-type {\n",
       "        vertical-align: middle;\n",
       "    }\n",
       "\n",
       "    .dataframe tbody tr th {\n",
       "        vertical-align: top;\n",
       "    }\n",
       "\n",
       "    .dataframe thead th {\n",
       "        text-align: right;\n",
       "    }\n",
       "</style>\n",
       "<table border=\"1\" class=\"dataframe\">\n",
       "  <thead>\n",
       "    <tr style=\"text-align: right;\">\n",
       "      <th></th>\n",
       "      <th>RH</th>\n",
       "      <th>Ws</th>\n",
       "      <th>Rain</th>\n",
       "      <th>FFMC</th>\n",
       "      <th>DMC</th>\n",
       "      <th>DC</th>\n",
       "      <th>ISI</th>\n",
       "      <th>BUI</th>\n",
       "      <th>FWI</th>\n",
       "      <th>region</th>\n",
       "    </tr>\n",
       "  </thead>\n",
       "  <tbody>\n",
       "    <tr>\n",
       "      <th>237</th>\n",
       "      <td>49</td>\n",
       "      <td>6</td>\n",
       "      <td>2.0</td>\n",
       "      <td>61.3</td>\n",
       "      <td>11.9</td>\n",
       "      <td>77</td>\n",
       "      <td>0.6</td>\n",
       "      <td>11.9</td>\n",
       "      <td>4</td>\n",
       "      <td>0</td>\n",
       "    </tr>\n",
       "    <tr>\n",
       "      <th>78</th>\n",
       "      <td>54</td>\n",
       "      <td>18</td>\n",
       "      <td>0.0</td>\n",
       "      <td>89.4</td>\n",
       "      <td>20.0</td>\n",
       "      <td>8</td>\n",
       "      <td>9.7</td>\n",
       "      <td>27.5</td>\n",
       "      <td>47</td>\n",
       "      <td>1</td>\n",
       "    </tr>\n",
       "    <tr>\n",
       "      <th>25</th>\n",
       "      <td>64</td>\n",
       "      <td>18</td>\n",
       "      <td>0.0</td>\n",
       "      <td>86.8</td>\n",
       "      <td>17.8</td>\n",
       "      <td>157</td>\n",
       "      <td>6.7</td>\n",
       "      <td>21.6</td>\n",
       "      <td>20</td>\n",
       "      <td>1</td>\n",
       "    </tr>\n",
       "    <tr>\n",
       "      <th>124</th>\n",
       "      <td>80</td>\n",
       "      <td>14</td>\n",
       "      <td>2.0</td>\n",
       "      <td>48.7</td>\n",
       "      <td>2.2</td>\n",
       "      <td>150</td>\n",
       "      <td>0.3</td>\n",
       "      <td>2.6</td>\n",
       "      <td>1</td>\n",
       "      <td>0</td>\n",
       "    </tr>\n",
       "    <tr>\n",
       "      <th>176</th>\n",
       "      <td>64</td>\n",
       "      <td>9</td>\n",
       "      <td>1.2</td>\n",
       "      <td>73.8</td>\n",
       "      <td>11.7</td>\n",
       "      <td>28</td>\n",
       "      <td>1.1</td>\n",
       "      <td>11.4</td>\n",
       "      <td>7</td>\n",
       "      <td>0</td>\n",
       "    </tr>\n",
       "    <tr>\n",
       "      <th>...</th>\n",
       "      <td>...</td>\n",
       "      <td>...</td>\n",
       "      <td>...</td>\n",
       "      <td>...</td>\n",
       "      <td>...</td>\n",
       "      <td>...</td>\n",
       "      <td>...</td>\n",
       "      <td>...</td>\n",
       "      <td>...</td>\n",
       "      <td>...</td>\n",
       "    </tr>\n",
       "    <tr>\n",
       "      <th>64</th>\n",
       "      <td>69</td>\n",
       "      <td>13</td>\n",
       "      <td>0.0</td>\n",
       "      <td>85.0</td>\n",
       "      <td>8.2</td>\n",
       "      <td>53</td>\n",
       "      <td>4.0</td>\n",
       "      <td>8.2</td>\n",
       "      <td>86</td>\n",
       "      <td>1</td>\n",
       "    </tr>\n",
       "    <tr>\n",
       "      <th>15</th>\n",
       "      <td>89</td>\n",
       "      <td>13</td>\n",
       "      <td>0.7</td>\n",
       "      <td>36.1</td>\n",
       "      <td>1.7</td>\n",
       "      <td>150</td>\n",
       "      <td>0.0</td>\n",
       "      <td>2.2</td>\n",
       "      <td>0</td>\n",
       "      <td>1</td>\n",
       "    </tr>\n",
       "    <tr>\n",
       "      <th>228</th>\n",
       "      <td>51</td>\n",
       "      <td>13</td>\n",
       "      <td>0.0</td>\n",
       "      <td>88.7</td>\n",
       "      <td>16.0</td>\n",
       "      <td>122</td>\n",
       "      <td>6.9</td>\n",
       "      <td>17.8</td>\n",
       "      <td>124</td>\n",
       "      <td>0</td>\n",
       "    </tr>\n",
       "    <tr>\n",
       "      <th>125</th>\n",
       "      <td>64</td>\n",
       "      <td>14</td>\n",
       "      <td>0.0</td>\n",
       "      <td>79.4</td>\n",
       "      <td>5.2</td>\n",
       "      <td>26</td>\n",
       "      <td>2.2</td>\n",
       "      <td>5.6</td>\n",
       "      <td>10</td>\n",
       "      <td>0</td>\n",
       "    </tr>\n",
       "    <tr>\n",
       "      <th>9</th>\n",
       "      <td>79</td>\n",
       "      <td>12</td>\n",
       "      <td>0.0</td>\n",
       "      <td>73.2</td>\n",
       "      <td>9.5</td>\n",
       "      <td>114</td>\n",
       "      <td>1.3</td>\n",
       "      <td>12.6</td>\n",
       "      <td>9</td>\n",
       "      <td>1</td>\n",
       "    </tr>\n",
       "  </tbody>\n",
       "</table>\n",
       "<p>163 rows × 10 columns</p>\n",
       "</div>"
      ],
      "text/plain": [
       "     RH  Ws  Rain  FFMC   DMC   DC  ISI   BUI  FWI  region\n",
       "237  49   6   2.0  61.3  11.9   77  0.6  11.9    4       0\n",
       "78   54  18   0.0  89.4  20.0    8  9.7  27.5   47       1\n",
       "25   64  18   0.0  86.8  17.8  157  6.7  21.6   20       1\n",
       "124  80  14   2.0  48.7   2.2  150  0.3   2.6    1       0\n",
       "176  64   9   1.2  73.8  11.7   28  1.1  11.4    7       0\n",
       "..   ..  ..   ...   ...   ...  ...  ...   ...  ...     ...\n",
       "64   69  13   0.0  85.0   8.2   53  4.0   8.2   86       1\n",
       "15   89  13   0.7  36.1   1.7  150  0.0   2.2    0       1\n",
       "228  51  13   0.0  88.7  16.0  122  6.9  17.8  124       0\n",
       "125  64  14   0.0  79.4   5.2   26  2.2   5.6   10       0\n",
       "9    79  12   0.0  73.2   9.5  114  1.3  12.6    9       1\n",
       "\n",
       "[163 rows x 10 columns]"
      ]
     },
     "execution_count": 44,
     "metadata": {},
     "output_type": "execute_result"
    }
   ],
   "source": [
    "x_train"
   ]
  },
  {
   "cell_type": "markdown",
   "id": "3adc8480",
   "metadata": {},
   "source": [
    "#### Independent Test Dataset "
   ]
  },
  {
   "cell_type": "code",
   "execution_count": 45,
   "id": "921fb579",
   "metadata": {},
   "outputs": [
    {
     "data": {
      "text/html": [
       "<div>\n",
       "<style scoped>\n",
       "    .dataframe tbody tr th:only-of-type {\n",
       "        vertical-align: middle;\n",
       "    }\n",
       "\n",
       "    .dataframe tbody tr th {\n",
       "        vertical-align: top;\n",
       "    }\n",
       "\n",
       "    .dataframe thead th {\n",
       "        text-align: right;\n",
       "    }\n",
       "</style>\n",
       "<table border=\"1\" class=\"dataframe\">\n",
       "  <thead>\n",
       "    <tr style=\"text-align: right;\">\n",
       "      <th></th>\n",
       "      <th>RH</th>\n",
       "      <th>Ws</th>\n",
       "      <th>Rain</th>\n",
       "      <th>FFMC</th>\n",
       "      <th>DMC</th>\n",
       "      <th>DC</th>\n",
       "      <th>ISI</th>\n",
       "      <th>BUI</th>\n",
       "      <th>FWI</th>\n",
       "      <th>region</th>\n",
       "    </tr>\n",
       "  </thead>\n",
       "  <tbody>\n",
       "    <tr>\n",
       "      <th>162</th>\n",
       "      <td>56</td>\n",
       "      <td>15</td>\n",
       "      <td>2.9</td>\n",
       "      <td>74.8</td>\n",
       "      <td>7.1</td>\n",
       "      <td>185</td>\n",
       "      <td>1.6</td>\n",
       "      <td>6.8</td>\n",
       "      <td>8</td>\n",
       "      <td>0</td>\n",
       "    </tr>\n",
       "    <tr>\n",
       "      <th>60</th>\n",
       "      <td>64</td>\n",
       "      <td>17</td>\n",
       "      <td>0.0</td>\n",
       "      <td>87.2</td>\n",
       "      <td>31.9</td>\n",
       "      <td>22</td>\n",
       "      <td>6.8</td>\n",
       "      <td>41.2</td>\n",
       "      <td>45</td>\n",
       "      <td>1</td>\n",
       "    </tr>\n",
       "    <tr>\n",
       "      <th>61</th>\n",
       "      <td>45</td>\n",
       "      <td>14</td>\n",
       "      <td>0.0</td>\n",
       "      <td>78.8</td>\n",
       "      <td>4.8</td>\n",
       "      <td>1</td>\n",
       "      <td>2.0</td>\n",
       "      <td>4.7</td>\n",
       "      <td>9</td>\n",
       "      <td>1</td>\n",
       "    </tr>\n",
       "    <tr>\n",
       "      <th>63</th>\n",
       "      <td>63</td>\n",
       "      <td>14</td>\n",
       "      <td>0.3</td>\n",
       "      <td>76.6</td>\n",
       "      <td>5.7</td>\n",
       "      <td>0</td>\n",
       "      <td>1.7</td>\n",
       "      <td>5.5</td>\n",
       "      <td>8</td>\n",
       "      <td>1</td>\n",
       "    </tr>\n",
       "    <tr>\n",
       "      <th>69</th>\n",
       "      <td>59</td>\n",
       "      <td>17</td>\n",
       "      <td>0.0</td>\n",
       "      <td>87.4</td>\n",
       "      <td>14.8</td>\n",
       "      <td>132</td>\n",
       "      <td>6.9</td>\n",
       "      <td>17.9</td>\n",
       "      <td>125</td>\n",
       "      <td>1</td>\n",
       "    </tr>\n",
       "    <tr>\n",
       "      <th>...</th>\n",
       "      <td>...</td>\n",
       "      <td>...</td>\n",
       "      <td>...</td>\n",
       "      <td>...</td>\n",
       "      <td>...</td>\n",
       "      <td>...</td>\n",
       "      <td>...</td>\n",
       "      <td>...</td>\n",
       "      <td>...</td>\n",
       "      <td>...</td>\n",
       "    </tr>\n",
       "    <tr>\n",
       "      <th>169</th>\n",
       "      <td>68</td>\n",
       "      <td>15</td>\n",
       "      <td>0.0</td>\n",
       "      <td>86.1</td>\n",
       "      <td>23.9</td>\n",
       "      <td>123</td>\n",
       "      <td>5.2</td>\n",
       "      <td>23.9</td>\n",
       "      <td>120</td>\n",
       "      <td>0</td>\n",
       "    </tr>\n",
       "    <tr>\n",
       "      <th>232</th>\n",
       "      <td>41</td>\n",
       "      <td>8</td>\n",
       "      <td>0.1</td>\n",
       "      <td>83.9</td>\n",
       "      <td>24.9</td>\n",
       "      <td>177</td>\n",
       "      <td>2.7</td>\n",
       "      <td>28.9</td>\n",
       "      <td>99</td>\n",
       "      <td>0</td>\n",
       "    </tr>\n",
       "    <tr>\n",
       "      <th>144</th>\n",
       "      <td>59</td>\n",
       "      <td>16</td>\n",
       "      <td>0.8</td>\n",
       "      <td>74.2</td>\n",
       "      <td>7.0</td>\n",
       "      <td>166</td>\n",
       "      <td>1.6</td>\n",
       "      <td>6.7</td>\n",
       "      <td>8</td>\n",
       "      <td>0</td>\n",
       "    </tr>\n",
       "    <tr>\n",
       "      <th>208</th>\n",
       "      <td>37</td>\n",
       "      <td>16</td>\n",
       "      <td>0.0</td>\n",
       "      <td>92.2</td>\n",
       "      <td>61.3</td>\n",
       "      <td>38</td>\n",
       "      <td>13.1</td>\n",
       "      <td>64.0</td>\n",
       "      <td>89</td>\n",
       "      <td>0</td>\n",
       "    </tr>\n",
       "    <tr>\n",
       "      <th>105</th>\n",
       "      <td>76</td>\n",
       "      <td>26</td>\n",
       "      <td>8.3</td>\n",
       "      <td>47.4</td>\n",
       "      <td>1.1</td>\n",
       "      <td>145</td>\n",
       "      <td>0.4</td>\n",
       "      <td>1.6</td>\n",
       "      <td>1</td>\n",
       "      <td>1</td>\n",
       "    </tr>\n",
       "  </tbody>\n",
       "</table>\n",
       "<p>81 rows × 10 columns</p>\n",
       "</div>"
      ],
      "text/plain": [
       "     RH  Ws  Rain  FFMC   DMC   DC   ISI   BUI  FWI  region\n",
       "162  56  15   2.9  74.8   7.1  185   1.6   6.8    8       0\n",
       "60   64  17   0.0  87.2  31.9   22   6.8  41.2   45       1\n",
       "61   45  14   0.0  78.8   4.8    1   2.0   4.7    9       1\n",
       "63   63  14   0.3  76.6   5.7    0   1.7   5.5    8       1\n",
       "69   59  17   0.0  87.4  14.8  132   6.9  17.9  125       1\n",
       "..   ..  ..   ...   ...   ...  ...   ...   ...  ...     ...\n",
       "169  68  15   0.0  86.1  23.9  123   5.2  23.9  120       0\n",
       "232  41   8   0.1  83.9  24.9  177   2.7  28.9   99       0\n",
       "144  59  16   0.8  74.2   7.0  166   1.6   6.7    8       0\n",
       "208  37  16   0.0  92.2  61.3   38  13.1  64.0   89       0\n",
       "105  76  26   8.3  47.4   1.1  145   0.4   1.6    1       1\n",
       "\n",
       "[81 rows x 10 columns]"
      ]
     },
     "execution_count": 45,
     "metadata": {},
     "output_type": "execute_result"
    }
   ],
   "source": [
    "x_test"
   ]
  },
  {
   "cell_type": "markdown",
   "id": "63fcd8fc",
   "metadata": {},
   "source": [
    "#### Dependent Training Dataset "
   ]
  },
  {
   "cell_type": "code",
   "execution_count": 46,
   "id": "61f8af93",
   "metadata": {},
   "outputs": [
    {
     "data": {
      "text/html": [
       "<div>\n",
       "<style scoped>\n",
       "    .dataframe tbody tr th:only-of-type {\n",
       "        vertical-align: middle;\n",
       "    }\n",
       "\n",
       "    .dataframe tbody tr th {\n",
       "        vertical-align: top;\n",
       "    }\n",
       "\n",
       "    .dataframe thead th {\n",
       "        text-align: right;\n",
       "    }\n",
       "</style>\n",
       "<table border=\"1\" class=\"dataframe\">\n",
       "  <thead>\n",
       "    <tr style=\"text-align: right;\">\n",
       "      <th></th>\n",
       "      <th>Temperature</th>\n",
       "    </tr>\n",
       "  </thead>\n",
       "  <tbody>\n",
       "    <tr>\n",
       "      <th>237</th>\n",
       "      <td>26</td>\n",
       "    </tr>\n",
       "    <tr>\n",
       "      <th>78</th>\n",
       "      <td>36</td>\n",
       "    </tr>\n",
       "    <tr>\n",
       "      <th>25</th>\n",
       "      <td>31</td>\n",
       "    </tr>\n",
       "    <tr>\n",
       "      <th>124</th>\n",
       "      <td>29</td>\n",
       "    </tr>\n",
       "    <tr>\n",
       "      <th>176</th>\n",
       "      <td>39</td>\n",
       "    </tr>\n",
       "    <tr>\n",
       "      <th>...</th>\n",
       "      <td>...</td>\n",
       "    </tr>\n",
       "    <tr>\n",
       "      <th>64</th>\n",
       "      <td>34</td>\n",
       "    </tr>\n",
       "    <tr>\n",
       "      <th>15</th>\n",
       "      <td>29</td>\n",
       "    </tr>\n",
       "    <tr>\n",
       "      <th>228</th>\n",
       "      <td>32</td>\n",
       "    </tr>\n",
       "    <tr>\n",
       "      <th>125</th>\n",
       "      <td>30</td>\n",
       "    </tr>\n",
       "    <tr>\n",
       "      <th>9</th>\n",
       "      <td>28</td>\n",
       "    </tr>\n",
       "  </tbody>\n",
       "</table>\n",
       "<p>163 rows × 1 columns</p>\n",
       "</div>"
      ],
      "text/plain": [
       "     Temperature\n",
       "237           26\n",
       "78            36\n",
       "25            31\n",
       "124           29\n",
       "176           39\n",
       "..           ...\n",
       "64            34\n",
       "15            29\n",
       "228           32\n",
       "125           30\n",
       "9             28\n",
       "\n",
       "[163 rows x 1 columns]"
      ]
     },
     "execution_count": 46,
     "metadata": {},
     "output_type": "execute_result"
    }
   ],
   "source": [
    "y_train"
   ]
  },
  {
   "cell_type": "markdown",
   "id": "3439399b",
   "metadata": {},
   "source": [
    "#### Dependent Test Dataset "
   ]
  },
  {
   "cell_type": "code",
   "execution_count": 47,
   "id": "890f1e69",
   "metadata": {},
   "outputs": [
    {
     "data": {
      "text/html": [
       "<div>\n",
       "<style scoped>\n",
       "    .dataframe tbody tr th:only-of-type {\n",
       "        vertical-align: middle;\n",
       "    }\n",
       "\n",
       "    .dataframe tbody tr th {\n",
       "        vertical-align: top;\n",
       "    }\n",
       "\n",
       "    .dataframe thead th {\n",
       "        text-align: right;\n",
       "    }\n",
       "</style>\n",
       "<table border=\"1\" class=\"dataframe\">\n",
       "  <thead>\n",
       "    <tr style=\"text-align: right;\">\n",
       "      <th></th>\n",
       "      <th>Temperature</th>\n",
       "    </tr>\n",
       "  </thead>\n",
       "  <tbody>\n",
       "    <tr>\n",
       "      <th>162</th>\n",
       "      <td>34</td>\n",
       "    </tr>\n",
       "    <tr>\n",
       "      <th>60</th>\n",
       "      <td>35</td>\n",
       "    </tr>\n",
       "    <tr>\n",
       "      <th>61</th>\n",
       "      <td>36</td>\n",
       "    </tr>\n",
       "    <tr>\n",
       "      <th>63</th>\n",
       "      <td>35</td>\n",
       "    </tr>\n",
       "    <tr>\n",
       "      <th>69</th>\n",
       "      <td>35</td>\n",
       "    </tr>\n",
       "    <tr>\n",
       "      <th>...</th>\n",
       "      <td>...</td>\n",
       "    </tr>\n",
       "    <tr>\n",
       "      <th>169</th>\n",
       "      <td>33</td>\n",
       "    </tr>\n",
       "    <tr>\n",
       "      <th>232</th>\n",
       "      <td>29</td>\n",
       "    </tr>\n",
       "    <tr>\n",
       "      <th>144</th>\n",
       "      <td>33</td>\n",
       "    </tr>\n",
       "    <tr>\n",
       "      <th>208</th>\n",
       "      <td>33</td>\n",
       "    </tr>\n",
       "    <tr>\n",
       "      <th>105</th>\n",
       "      <td>22</td>\n",
       "    </tr>\n",
       "  </tbody>\n",
       "</table>\n",
       "<p>81 rows × 1 columns</p>\n",
       "</div>"
      ],
      "text/plain": [
       "     Temperature\n",
       "162           34\n",
       "60            35\n",
       "61            36\n",
       "63            35\n",
       "69            35\n",
       "..           ...\n",
       "169           33\n",
       "232           29\n",
       "144           33\n",
       "208           33\n",
       "105           22\n",
       "\n",
       "[81 rows x 1 columns]"
      ]
     },
     "execution_count": 47,
     "metadata": {},
     "output_type": "execute_result"
    }
   ],
   "source": [
    "y_test"
   ]
  },
  {
   "cell_type": "markdown",
   "id": "7b087ebe",
   "metadata": {},
   "source": [
    "### Standardizing or Feature Scaling"
   ]
  },
  {
   "cell_type": "code",
   "execution_count": 48,
   "id": "369ce421",
   "metadata": {},
   "outputs": [],
   "source": [
    "from sklearn.preprocessing import StandardScaler\n",
    "scaler=StandardScaler()  ## Initialising"
   ]
  },
  {
   "cell_type": "code",
   "execution_count": 49,
   "id": "a513109a",
   "metadata": {},
   "outputs": [
    {
     "data": {
      "text/plain": [
       "StandardScaler()"
      ]
     },
     "execution_count": 49,
     "metadata": {},
     "output_type": "execute_result"
    }
   ],
   "source": [
    "scaler"
   ]
  },
  {
   "cell_type": "code",
   "execution_count": 50,
   "id": "f54a2947",
   "metadata": {},
   "outputs": [],
   "source": [
    "x_train=scaler.fit_transform(x_train)"
   ]
  },
  {
   "cell_type": "code",
   "execution_count": 51,
   "id": "ad843cc7",
   "metadata": {},
   "outputs": [],
   "source": [
    "x_test=scaler.transform(x_test)"
   ]
  },
  {
   "cell_type": "code",
   "execution_count": 52,
   "id": "69f4e0e3",
   "metadata": {},
   "outputs": [
    {
     "data": {
      "text/plain": [
       "array([[-0.85631108, -3.36419461,  0.88853946, ..., -0.32535487,\n",
       "        -1.03738328, -0.98176139],\n",
       "       [-0.52508491,  0.99944243, -0.441414  , ...,  0.76565444,\n",
       "        -0.01141751,  1.01857744],\n",
       "       [ 0.13736742,  0.99944243, -0.441414  , ...,  0.35302912,\n",
       "        -0.65562857,  1.01857744],\n",
       "       ...,\n",
       "       [-0.72382061, -0.81873967, -0.441414  , ...,  0.08727045,\n",
       "         1.825777  , -0.98176139],\n",
       "       [ 0.13736742, -0.45510325, -0.441414  , ..., -0.76595478,\n",
       "        -0.89422526, -0.98176139],\n",
       "       [ 1.13104591, -1.18237609, -0.441414  , ..., -0.27639932,\n",
       "        -0.91808493,  1.01857744]])"
      ]
     },
     "execution_count": 52,
     "metadata": {},
     "output_type": "execute_result"
    }
   ],
   "source": [
    "x_train"
   ]
  },
  {
   "cell_type": "code",
   "execution_count": 53,
   "id": "58728f94",
   "metadata": {},
   "outputs": [
    {
     "data": {
      "text/plain": [
       "array([[-3.92594448e-01, -9.14668296e-02,  1.48701853e+00,\n",
       "        -1.82411230e-01, -6.02677495e-01,  1.41938909e+00,\n",
       "        -7.33442383e-01, -6.82030988e-01, -9.41944600e-01,\n",
       "        -9.81761387e-01],\n",
       "       [ 1.37367416e-01,  6.35806011e-01, -4.41414004e-01,\n",
       "         6.64566895e-01,  1.37979749e+00, -1.44016117e+00,\n",
       "         4.94418103e-01,  1.72378441e+00, -5.91368483e-02,\n",
       "         1.01857744e+00],\n",
       "       [-1.12129201e+00, -4.55103250e-01, -4.41414004e-01,\n",
       "         9.08075201e-02, -7.86536062e-01, -1.80856948e+00,\n",
       "        -6.38991577e-01, -8.28897625e-01, -9.18084931e-01,\n",
       "         1.01857744e+00],\n",
       "       [ 7.11221826e-02, -4.55103250e-01, -2.41920984e-01,\n",
       "        -5.94627923e-02, -7.14591405e-01, -1.82611273e+00,\n",
       "        -7.09829682e-01, -7.72948430e-01, -9.41944600e-01,\n",
       "         1.01857744e+00],\n",
       "       [-1.93858749e-01,  6.35806011e-01, -4.41414004e-01,\n",
       "         6.78227832e-01,  1.28490116e-02,  4.89596678e-01,\n",
       "         5.18030804e-01,  9.42640966e-02,  1.84963667e+00,\n",
       "         1.01857744e+00],\n",
       "       [-5.91330147e-01,  2.72169591e-01, -4.41414004e-01,\n",
       "         8.21667676e-01,  1.83544698e+00, -1.19455562e+00,\n",
       "         1.34447536e+00,  2.16438432e+00,  5.85074214e-01,\n",
       "         1.01857744e+00],\n",
       "       [-5.91330147e-01,  1.36307885e+00, -4.41414004e-01,\n",
       "         8.01176270e-01,  1.96707579e-01,  1.61236488e+00,\n",
       "         1.25002456e+00,  5.13883061e-01, -1.06856186e-01,\n",
       "         1.01857744e+00],\n",
       "       [-5.91330147e-01,  6.35806011e-01, -1.08925637e-01,\n",
       "         1.86434082e-01,  4.84486205e-01, -1.40507466e+00,\n",
       "        -4.73702665e-01,  9.82457572e-01,  1.27700461e+00,\n",
       "        -9.81761387e-01],\n",
       "       [ 5.34838813e-01, -4.55103250e-01, -4.41414004e-01,\n",
       "         3.64026270e-01, -4.18818928e-01, -2.47219954e-01,\n",
       "        -3.55639157e-01, -3.81304063e-01,  8.47530573e-01,\n",
       "         1.01857744e+00],\n",
       "       [ 7.11221826e-02, -4.55103250e-01, -4.41414004e-01,\n",
       "         6.50905957e-01, -2.98911167e-01, -1.41960435e-01,\n",
       "         2.11065683e-01, -2.83392971e-01,  1.44402230e+00,\n",
       "         1.01857744e+00],\n",
       "       [-3.92594448e-01,  2.72169591e-01, -4.41414004e-01,\n",
       "         7.80684863e-01,  7.32295578e-01,  5.07139931e-01,\n",
       "         8.24995926e-01,  5.06889412e-01, -3.45452876e-01,\n",
       "        -9.81761387e-01],\n",
       "       [ 9.98555444e-01,  2.09035169e+00,  7.55544118e-01,\n",
       "        -1.29577764e+00, -1.01835773e+00,  1.10361054e+00,\n",
       "        -8.51505892e-01, -9.89751562e-01, -1.06124295e+00,\n",
       "         1.01857744e+00],\n",
       "       [-1.84998957e+00,  2.72169591e-01, -3.08418657e-01,\n",
       "         7.39702051e-01,  1.80719877e-01,  1.56274868e-01,\n",
       "         6.59707014e-01,  6.62894990e-02, -6.79488242e-01,\n",
       "        -9.81761387e-01],\n",
       "       [ 6.01084046e-01, -4.55103250e-01,  3.88093477e+00,\n",
       "        -8.85949510e-01, -9.06443823e-01,  1.36675933e+00,\n",
       "        -8.75118593e-01, -9.12821418e-01, -1.03738328e+00,\n",
       "        -9.81761387e-01],\n",
       "       [-9.88801544e-01,  9.99442431e-01,  3.54844640e+00,\n",
       "         2.27416895e-01, -3.86843525e-01,  1.43693235e+00,\n",
       "        -3.79251858e-01, -5.00196103e-01,  7.52091897e-01,\n",
       "        -9.81761387e-01],\n",
       "       [ 5.34838813e-01,  2.72169591e-01, -4.41414004e-01,\n",
       "         5.82601270e-01, -1.47028003e-01, -6.15628269e-01,\n",
       "         1.63840280e-01, -2.69405673e-01,  1.42016263e+00,\n",
       "        -9.81761387e-01],\n",
       "       [-5.25084914e-01, -1.54601251e+00, -3.74916331e-01,\n",
       "         4.25500489e-01, -4.98757435e-01, -5.80541763e-01,\n",
       "        -3.79251858e-01, -5.07189753e-01,  7.75951566e-01,\n",
       "        -9.81761387e-01],\n",
       "       [ 1.06480068e+00, -4.55103250e-01,  4.89553424e-01,\n",
       "        -2.21789092e+00, -1.01835773e+00,  7.87831981e-01,\n",
       "        -1.06402021e+00, -9.89751562e-01, -1.10896228e+00,\n",
       "         1.01857744e+00],\n",
       "       [-1.78374434e+00, -9.14668296e-02, -4.41414004e-01,\n",
       "         1.11537783e+00,  6.68344772e-01,  8.61018558e-02,\n",
       "         2.59594855e+00,  4.43946567e-01,  5.37354876e-01,\n",
       "        -9.81761387e-01],\n",
       "       [-7.90065846e-01,  2.72169591e-01, -4.41414004e-01,\n",
       "         8.48989551e-01,  1.44374829e+00,  8.75548246e-01,\n",
       "         1.13196105e+00,  1.12233056e+00,  1.07880835e-01,\n",
       "        -9.81761387e-01],\n",
       "       [ 2.03612648e-01, -4.55103250e-01, -4.41414004e-01,\n",
       "         4.80144239e-01, -1.71009555e-01,  4.19423665e-01,\n",
       "        -1.66737544e-01, -5.26025410e-02,  1.22928528e+00,\n",
       "         1.01857744e+00],\n",
       "       [-1.93858749e-01,  1.36307885e+00, -4.41414004e-01,\n",
       "         7.94345801e-01,  1.05204961e+00, -1.14192586e+00,\n",
       "         1.20279915e+00,  1.59090507e+00,  2.51038848e-01,\n",
       "        -9.81761387e-01],\n",
       "       [-5.91330147e-01,  9.99442431e-01, -4.41414004e-01,\n",
       "         7.87515332e-01,  5.56430862e-01,  1.20887006e+00,\n",
       "         1.06112294e+00,  6.46762400e-01, -1.54575524e-01,\n",
       "         1.01857744e+00],\n",
       "       [ 4.87694966e-03,  2.72169591e-01, -4.41414004e-01,\n",
       "         7.05549707e-01,  1.48744474e-01, -2.29676700e-01,\n",
       "         5.41643506e-01, -1.06406445e-02,  1.75419799e+00,\n",
       "        -9.81761387e-01],\n",
       "       [-1.91623481e+00,  6.35806011e-01, -4.41414004e-01,\n",
       "         1.10854736e+00,  1.96707579e-01, -3.17392966e-01,\n",
       "         2.95013907e+00,  2.43276025e-02,  2.74898517e-01,\n",
       "        -9.81761387e-01],\n",
       "       [ 1.85974347e+00, -9.14668296e-02, -4.41414004e-01,\n",
       "        -7.28848729e-01, -5.94683644e-01, -1.47524767e+00,\n",
       "        -8.27893190e-01, -6.61050040e-01, -9.89663938e-01,\n",
       "        -9.81761387e-01],\n",
       "       [-6.13682833e-02,  9.99442431e-01, -2.41920984e-01,\n",
       "         1.86434082e-01, -2.34960361e-01,  1.50710536e+00,\n",
       "        -4.50089963e-01,  7.32831484e-02,  1.08612726e+00,\n",
       "         1.01857744e+00],\n",
       "       [-9.88801544e-01, -4.55103250e-01,  2.40697100e-02,\n",
       "         2.01142638e-03, -6.02677495e-01,  1.17378355e+00,\n",
       "        -6.86216980e-01, -6.82030988e-01, -9.18084931e-01,\n",
       "         1.01857744e+00],\n",
       "       [ 1.19729114e+00,  2.72169591e-01,  7.55544118e-01,\n",
       "        -2.05395967e+00, -9.38419226e-01,  8.22918487e-01,\n",
       "        -1.04040750e+00, -9.47789665e-01, -1.10896228e+00,\n",
       "         1.01857744e+00],\n",
       "       [ 1.13104591e+00, -9.14668296e-02, -4.41414004e-01,\n",
       "         5.41618457e-01,  1.10800656e+00, -1.54542068e+00,\n",
       "        -1.44863200e-03,  1.45802573e+00, -6.31768904e-01,\n",
       "         1.01857744e+00],\n",
       "       [ 1.26353638e+00,  2.09035169e+00,  3.41545106e+00,\n",
       "        -1.97199404e+00, -9.30425375e-01,  8.22918487e-01,\n",
       "        -1.01679480e+00, -9.47789665e-01, -1.10896228e+00,\n",
       "         1.01857744e+00],\n",
       "       [ 1.59476254e+00,  2.72169591e-01, -4.41414004e-01,\n",
       "        -2.70285420e+00, -1.09829624e+00,  1.06852403e+00,\n",
       "        -1.08763291e+00, -1.05968806e+00, -1.13282195e+00,\n",
       "        -9.81761387e-01],\n",
       "       [-5.25084914e-01, -8.18739670e-01, -4.41414004e-01,\n",
       "         7.32871582e-01, -3.78849674e-01, -3.70022725e-01,\n",
       "         3.99967296e-01, -3.95291362e-01,  1.51560130e+00,\n",
       "         1.01857744e+00],\n",
       "       [-7.23820613e-01,  2.72169591e-01,  2.08549759e+00,\n",
       "         2.01142638e-03, -5.30732838e-01,  1.41938909e+00,\n",
       "        -6.38991577e-01, -6.19088143e-01, -8.46505925e-01,\n",
       "        -9.81761387e-01],\n",
       "       [ 1.37367416e-01, -9.14668296e-02, -4.41414004e-01,\n",
       "         6.30414551e-01, -3.51140928e-02,  6.47485956e-01,\n",
       "         2.34678385e-01,  1.22238694e-01,  1.65875932e+00,\n",
       "         1.01857744e+00],\n",
       "       [ 3.36103114e-01,  1.36307885e+00, -4.41414004e-01,\n",
       "        -1.41428417e-01, -9.38419226e-01, -1.24718538e+00,\n",
       "        -6.38991577e-01, -8.77853171e-01, -9.41944600e-01,\n",
       "        -9.81761387e-01],\n",
       "       [ 1.19729114e+00,  2.72169591e-01, -1.75423310e-01,\n",
       "        -1.20698154e+00, -8.98449972e-01, -5.45455257e-01,\n",
       "        -8.98731295e-01, -8.00923028e-01, -1.03738328e+00,\n",
       "         1.01857744e+00],\n",
       "       [ 4.87694966e-03, -9.14668296e-02, -4.41414004e-01,\n",
       "         3.98178614e-01, -7.06597555e-01, -1.08929610e+00,\n",
       "        -2.13962947e-01, -7.10005585e-01,  7.99811235e-01,\n",
       "        -9.81761387e-01],\n",
       "       [ 1.32978161e+00, -9.14668296e-02, -1.75423310e-01,\n",
       "        -2.22472138e+00, -1.09829624e+00,  7.52745475e-01,\n",
       "        -1.06402021e+00, -1.05968806e+00, -1.13282195e+00,\n",
       "         1.01857744e+00],\n",
       "       [-9.22556312e-01, -8.18739670e-01, -4.41414004e-01,\n",
       "         8.76311426e-01,  6.04393966e-01, -1.70330996e+00,\n",
       "         9.43059434e-01,  8.98533779e-01, -1.06856186e-01,\n",
       "         1.01857744e+00],\n",
       "       [ 4.02348347e-01,  1.36307885e+00, -4.41414004e-01,\n",
       "         7.39702051e-01,  9.00166443e-01, -1.56296394e+00,\n",
       "         9.66672136e-01,  1.26919720e+00,  6.01614966e-02,\n",
       "         1.01857744e+00],\n",
       "       [-4.58839681e-01, -9.14668296e-02, -4.41414004e-01,\n",
       "         8.08006738e-01,  1.09201886e+00,  7.00115715e-01,\n",
       "         8.48608628e-01,  8.21603635e-01, -2.26154531e-01,\n",
       "        -9.81761387e-01],\n",
       "       [-1.32002771e+00,  2.09035169e+00, -4.41414004e-01,\n",
       "         8.96802832e-01,  2.84639937e-01, -3.70022725e-01,\n",
       "         2.05285641e+00,  1.01257746e-01,  3.63018276e-02,\n",
       "        -9.81761387e-01],\n",
       "       [ 8.66064978e-01,  2.72169591e-01, -4.41414004e-01,\n",
       "         3.23043457e-01, -8.18511465e-01, -6.85801282e-01,\n",
       "        -3.32026455e-01, -7.37980183e-01,  3.94196862e-01,\n",
       "        -9.81761387e-01],\n",
       "       [-1.38627294e+00, -1.90964893e+00, -3.74916331e-01,\n",
       "         9.92429394e-01,  6.36369369e-01,  6.65029209e-01,\n",
       "         1.13196105e+00,  5.34864009e-01, -1.78435193e-01,\n",
       "        -9.81761387e-01],\n",
       "       [-4.58839681e-01, -4.55103250e-01, -4.41414004e-01,\n",
       "         7.80684863e-01,  3.16615340e-01,  6.82572462e-01,\n",
       "         6.36094313e-01,  3.74010073e-01, -5.60189897e-01,\n",
       "         1.01857744e+00],\n",
       "       [ 1.19729114e+00,  2.09035169e+00,  1.07301951e+01,\n",
       "        -1.70560576e+00, -4.74775883e-01,  1.15624030e+00,\n",
       "        -9.69569400e-01, -5.77126247e-01, -1.06124295e+00,\n",
       "         1.01857744e+00],\n",
       "       [-1.18753724e+00, -8.18739670e-01, -4.41414004e-01,\n",
       "         8.62650488e-01, -1.63015705e-01, -9.31406825e-01,\n",
       "         8.48608628e-01, -2.83392971e-01,  1.77805766e+00,\n",
       "        -9.81761387e-01],\n",
       "       [-4.58839681e-01, -9.14668296e-02, -4.41414004e-01,\n",
       "         7.94345801e-01,  5.00473906e-01,  1.21188362e-01,\n",
       "         7.77770523e-01,  2.97079929e-01, -5.12470559e-01,\n",
       "        -9.81761387e-01],\n",
       "       [ 1.72725301e+00, -8.18739670e-01, -4.41414004e-01,\n",
       "        -4.41969042e-01, -9.62400778e-01, -1.21209888e+00,\n",
       "        -8.27893190e-01, -8.98834119e-01, -1.01352361e+00,\n",
       "         1.01857744e+00],\n",
       "       [ 1.06480068e+00, -4.55103250e-01, -4.41414004e-01,\n",
       "         2.41077832e-01, -6.66628301e-01, -3.34936219e-01,\n",
       "        -4.97315367e-01, -5.70132597e-01,  3.46477524e-01,\n",
       "         1.01857744e+00],\n",
       "       [ 4.02348347e-01, -4.55103250e-01, -4.41414004e-01,\n",
       "         5.41618457e-01, -2.02984958e-01,  1.03645109e-01,\n",
       "        -2.50613337e-02, -1.64500931e-01,  1.30086428e+00,\n",
       "         1.01857744e+00],\n",
       "       [-1.25378248e+00,  2.72169591e-01, -4.41414004e-01,\n",
       "         9.37785644e-01,  2.51492429e+00, -1.52787743e+00,\n",
       "         1.60421508e+00,  2.35321286e+00,  6.32793552e-01,\n",
       "        -9.81761387e-01],\n",
       "       [ 3.36103114e-01, -4.55103250e-01, -4.41414004e-01,\n",
       "         3.50365332e-01, -7.06597555e-01, -7.91060800e-01,\n",
       "        -3.79251858e-01, -6.68043689e-01,  3.94196862e-01,\n",
       "         1.01857744e+00],\n",
       "       [ 1.46227207e+00,  9.99442431e-01, -4.41414004e-01,\n",
       "         4.32330957e-01, -9.10710479e-02,  2.79077640e-01,\n",
       "        -4.86740353e-02, -3.86152421e-02,  1.34858362e+00,\n",
       "         1.01857744e+00],\n",
       "       [ 6.01084046e-01,  6.35806011e-01, -2.41920984e-01,\n",
       "        -5.37595604e-01, -9.14437674e-01, -4.05109232e-01,\n",
       "        -7.57055085e-01, -8.00923028e-01, -9.89663938e-01,\n",
       "         1.01857744e+00],\n",
       "       [ 2.69857881e-01, -9.14668296e-02, -3.74916331e-01,\n",
       "         3.57195801e-01,  1.44374829e+00,  1.57727837e+00,\n",
       "        -3.32026455e-01,  1.32514639e+00,  1.58718031e+00,\n",
       "        -9.81761387e-01],\n",
       "       [-1.65125387e+00, -8.18739670e-01, -4.41414004e-01,\n",
       "         1.02658174e+00,  1.00408650e+00,  3.49250653e-01,\n",
       "         1.65144048e+00,  7.37679842e-01,  1.79459842e-01,\n",
       "        -9.81761387e-01],\n",
       "       [ 7.11221826e-02,  6.35806011e-01,  2.90060404e-01,\n",
       "        -3.19020605e-01,  5.00473906e-01,  4.72053425e-01,\n",
       "        -7.33442383e-01,  3.60022774e-01,  3.94196862e-01,\n",
       "        -9.81761387e-01],\n",
       "       [-8.56311079e-01,  1.36307885e+00, -4.41414004e-01,\n",
       "         7.60193457e-01, -2.50948063e-01, -2.64763207e-01,\n",
       "         1.03751024e+00, -2.90386621e-01, -7.03347911e-01,\n",
       "        -9.81761387e-01],\n",
       "       [ 2.03612648e-01, -9.14668296e-02, -3.74916331e-01,\n",
       "         2.68399707e-01, -1.86997257e-01,  6.12399450e-01,\n",
       "        -4.50089963e-01, -3.64699509e-03,  1.03840792e+00,\n",
       "         1.01857744e+00],\n",
       "       [ 7.33574512e-01, -9.14668296e-02, -4.41414004e-01,\n",
       "         6.23584082e-01,  9.64117249e-01, -1.59805044e+00,\n",
       "         2.11065683e-01,  1.29017815e+00, -5.36330228e-01,\n",
       "         1.01857744e+00],\n",
       "       [-6.13682833e-02, -8.18739670e-01,  4.23055751e-01,\n",
       "        -8.92779979e-01, -8.42493017e-01,  8.05375234e-01,\n",
       "        -8.75118593e-01, -8.84846821e-01, -1.03738328e+00,\n",
       "         1.01857744e+00],\n",
       "       [ 1.32978161e+00,  2.45398811e+00,  8.26978122e+00,\n",
       "        -2.07445107e+00, -9.70394629e-01,  7.35202221e-01,\n",
       "        -1.04040750e+00, -9.68770614e-01, -1.10896228e+00,\n",
       "         1.01857744e+00],\n",
       "       [-1.27613516e-01,  9.99442431e-01, -2.41920984e-01,\n",
       "        -2.53104486e-02, -2.66935764e-01,  2.08904628e-01,\n",
       "        -5.91766173e-01, -1.71494581e-01,  4.18056531e-01,\n",
       "         1.01857744e+00],\n",
       "       [-1.84998957e+00, -4.55103250e-01, -4.41414004e-01,\n",
       "         1.08122549e+00, -3.06905018e-01, -8.26147307e-01,\n",
       "         2.14730722e+00, -4.16272310e-01, -3.21593207e-01,\n",
       "        -9.81761387e-01],\n",
       "       [ 1.66100777e+00,  9.99442431e-01, -4.41414004e-01,\n",
       "         1.72773145e-01, -2.26966510e-01, -4.57738991e-01,\n",
       "        -4.50089963e-01, -3.32348517e-01,  7.99811235e-01,\n",
       "        -9.81761387e-01],\n",
       "       [ 2.69857881e-01,  2.45398811e+00, -1.75423310e-01,\n",
       "        -6.33222167e-01, -3.30886570e-01,  8.93091499e-01,\n",
       "        -6.86216980e-01, -8.05771386e-02,  3.22617855e-01,\n",
       "         1.01857744e+00],\n",
       "       [-5.91330147e-01, -4.55103250e-01, -4.41414004e-01,\n",
       "         8.21667676e-01,  2.11523175e+00, -1.58050719e+00,\n",
       "         7.77770523e-01,  2.02451133e+00,  1.55600173e-01,\n",
       "        -9.81761387e-01],\n",
       "       [-4.58839681e-01, -4.55103250e-01, -4.41414004e-01,\n",
       "         5.96262207e-01, -5.06751286e-01, -1.01912309e+00,\n",
       "         6.93894730e-02, -5.84119896e-01,  1.13384660e+00,\n",
       "        -9.81761387e-01],\n",
       "       [ 9.32310211e-01,  1.72671527e+00,  2.40697100e-02,\n",
       "        -9.81576073e-01, -9.62400778e-01,  1.38430259e+00,\n",
       "        -8.04280488e-01, -9.47789665e-01, -1.01352361e+00,\n",
       "         1.01857744e+00],\n",
       "       [-5.25084914e-01,  9.99442431e-01, -3.74916331e-01,\n",
       "         1.52281739e-01, -8.26505316e-01, -1.38753141e+00,\n",
       "        -7.09829682e-01, -8.00923028e-01, -9.65804269e-01,\n",
       "        -9.81761387e-01],\n",
       "       [ 7.33574512e-01, -9.14668296e-02, -4.41414004e-01,\n",
       "         6.23584082e-01, -2.02984958e-01, -7.17874223e-02,\n",
       "         2.11065683e-01, -2.13456477e-01,  1.46788197e+00,\n",
       "         1.01857744e+00],\n",
       "       [ 1.37367416e-01, -9.14668296e-02, -3.08418657e-01,\n",
       "        -6.94696386e-01, -8.66474569e-01, -1.22964213e+00,\n",
       "        -8.27893190e-01, -8.21903976e-01, -1.01352361e+00,\n",
       "        -9.81761387e-01],\n",
       "       [ 4.68593580e-01, -8.18739670e-01,  2.40697100e-02,\n",
       "        -7.42509667e-01, -6.90609853e-01,  1.40184584e+00,\n",
       "        -8.51505892e-01, -7.51967482e-01, -1.01352361e+00,\n",
       "         1.01857744e+00],\n",
       "       [ 1.32978161e+00,  2.09035169e+00, -4.41414004e-01,\n",
       "         5.07466114e-01,  2.58686895e+00, -8.43690560e-01,\n",
       "        -7.22867370e-02,  2.98963495e+00, -3.45452876e-01,\n",
       "         1.01857744e+00],\n",
       "       [ 4.02348347e-01, -9.14668296e-02, -4.41414004e-01,\n",
       "         5.89431738e-01,  7.40289429e-01,  3.31707400e-01,\n",
       "         1.16614876e-01,  5.13883061e-01,  1.73033833e+00,\n",
       "        -9.81761387e-01],\n",
       "       [-1.38627294e+00, -2.63692177e+00, -3.74916331e-01,\n",
       "         4.39161426e-01,  8.20227936e-01,  1.27904307e+00,\n",
       "        -4.73702665e-01,  8.63565532e-01,  1.22928528e+00,\n",
       "        -9.81761387e-01],\n",
       "       [-1.93858749e-01,  2.72169591e-01,  9.05673835e-02,\n",
       "        -2.23394042e-01, -6.10671346e-01,  1.08606728e+00,\n",
       "        -7.33442383e-01, -6.89024637e-01, -9.41944600e-01,\n",
       "        -9.81761387e-01],\n",
       "       [-1.65125387e+00,  2.72169591e-01, -4.41414004e-01,\n",
       "         1.00609033e+00,  3.72998960e+00, -1.15946912e+00,\n",
       "         1.98201831e+00,  3.31833647e+00,  9.90688587e-01,\n",
       "        -9.81761387e-01],\n",
       "       [ 9.32310211e-01,  3.90853379e+00,  5.07789289e+00,\n",
       "        -2.05395967e+00, -1.08230854e+00,  7.17658968e-01,\n",
       "        -1.01679480e+00, -1.04570076e+00, -1.10896228e+00,\n",
       "         1.01857744e+00]])"
      ]
     },
     "execution_count": 53,
     "metadata": {},
     "output_type": "execute_result"
    }
   ],
   "source": [
    "x_test"
   ]
  },
  {
   "cell_type": "markdown",
   "id": "9fa19fd1",
   "metadata": {},
   "source": [
    "### Model Training "
   ]
  },
  {
   "cell_type": "code",
   "execution_count": 54,
   "id": "ed575caf",
   "metadata": {},
   "outputs": [],
   "source": [
    "from sklearn.linear_model import LinearRegression\n"
   ]
  },
  {
   "cell_type": "code",
   "execution_count": 55,
   "id": "d29fb168",
   "metadata": {},
   "outputs": [],
   "source": [
    "regression=LinearRegression()"
   ]
  },
  {
   "cell_type": "code",
   "execution_count": 56,
   "id": "236f344f",
   "metadata": {},
   "outputs": [
    {
     "data": {
      "text/plain": [
       "LinearRegression()"
      ]
     },
     "execution_count": 56,
     "metadata": {},
     "output_type": "execute_result"
    }
   ],
   "source": [
    "regression\n",
    "regression.fit(x_train,y_train)"
   ]
  },
  {
   "cell_type": "markdown",
   "id": "b3f646fe",
   "metadata": {},
   "source": [
    "#### Coefficient "
   ]
  },
  {
   "cell_type": "code",
   "execution_count": 57,
   "id": "719b9470",
   "metadata": {},
   "outputs": [
    {
     "name": "stdout",
     "output_type": "stream",
     "text": [
      "[[-1.27500995 -0.53842199 -0.21205266  0.70886534 -1.02729123 -0.32455869\n",
      "   0.2501139   1.35400654  0.21687466 -0.23115864]]\n"
     ]
    }
   ],
   "source": [
    "print(regression.coef_)"
   ]
  },
  {
   "cell_type": "markdown",
   "id": "caa19518",
   "metadata": {},
   "source": [
    "#### Intercept "
   ]
  },
  {
   "cell_type": "code",
   "execution_count": 58,
   "id": "a8f8cece",
   "metadata": {},
   "outputs": [
    {
     "name": "stdout",
     "output_type": "stream",
     "text": [
      "[32.17791411]\n"
     ]
    }
   ],
   "source": [
    "print(regression.intercept_)"
   ]
  },
  {
   "cell_type": "markdown",
   "id": "8fecd747",
   "metadata": {},
   "source": [
    "### Precdiction for Test Data "
   ]
  },
  {
   "cell_type": "code",
   "execution_count": 59,
   "id": "6262cab0",
   "metadata": {},
   "outputs": [
    {
     "data": {
      "text/plain": [
       "array([[31.35728286],\n",
       "       [33.48448971],\n",
       "       [33.68885621],\n",
       "       [32.00434093],\n",
       "       [32.90791395],\n",
       "       [35.12184072],\n",
       "       [32.88392257],\n",
       "       [34.41877632],\n",
       "       [31.94627835],\n",
       "       [32.98721461],\n",
       "       [33.30675698],\n",
       "       [27.36975802],\n",
       "       [35.07784211],\n",
       "       [29.24028529],\n",
       "       [31.85823402],\n",
       "       [32.41802576],\n",
       "       [34.37535576],\n",
       "       [28.09756027],\n",
       "       [36.26505018],\n",
       "       [34.01992072],\n",
       "       [32.55507349],\n",
       "       [34.37404142],\n",
       "       [32.95376928],\n",
       "       [33.26908507],\n",
       "       [36.11652279],\n",
       "       [29.43281151],\n",
       "       [31.64047533],\n",
       "       [32.38849979],\n",
       "       [27.56606986],\n",
       "       [32.22728534],\n",
       "       [25.99441341],\n",
       "       [27.23155419],\n",
       "       [34.06867619],\n",
       "       [31.64327002],\n",
       "       [32.76692249],\n",
       "       [31.05185077],\n",
       "       [29.01675218],\n",
       "       [33.06175783],\n",
       "       [27.69372403],\n",
       "       [35.63560078],\n",
       "       [32.8693709 ],\n",
       "       [33.63210892],\n",
       "       [34.17783984],\n",
       "       [31.5433198 ],\n",
       "       [36.08261913],\n",
       "       [33.41675348],\n",
       "       [24.66437356],\n",
       "       [35.74882134],\n",
       "       [33.62798919],\n",
       "       [29.69949092],\n",
       "       [31.06668332],\n",
       "       [32.38004487],\n",
       "       [36.25233174],\n",
       "       [32.16965552],\n",
       "       [30.17098904],\n",
       "       [30.08639562],\n",
       "       [32.50310102],\n",
       "       [36.07831078],\n",
       "       [31.40637145],\n",
       "       [33.45272801],\n",
       "       [32.10289562],\n",
       "       [32.80364988],\n",
       "       [30.70110717],\n",
       "       [24.64737332],\n",
       "       [31.51727723],\n",
       "       [36.35580039],\n",
       "       [29.95761627],\n",
       "       [29.70472774],\n",
       "       [35.38938777],\n",
       "       [34.07489424],\n",
       "       [27.95824128],\n",
       "       [32.55161796],\n",
       "       [31.90597354],\n",
       "       [31.60138869],\n",
       "       [30.05790994],\n",
       "       [31.14615789],\n",
       "       [32.6846203 ],\n",
       "       [36.0426106 ],\n",
       "       [31.28209795],\n",
       "       [36.91863039],\n",
       "       [25.08477191]])"
      ]
     },
     "execution_count": 59,
     "metadata": {},
     "output_type": "execute_result"
    }
   ],
   "source": [
    "reg_pred=regression.predict(x_test)\n",
    "reg_pred"
   ]
  },
  {
   "cell_type": "code",
   "execution_count": 60,
   "id": "78cf1cfd",
   "metadata": {},
   "outputs": [
    {
     "data": {
      "text/plain": [
       "<AxesSubplot:ylabel='Density'>"
      ]
     },
     "execution_count": 60,
     "metadata": {},
     "output_type": "execute_result"
    },
    {
     "data": {
      "image/png": "[encoded data removed]",
      "text/plain": [
       "<Figure size 1440x720 with 1 Axes>"
      ]
     },
     "metadata": {
      "needs_background": "light"
     },
     "output_type": "display_data"
    }
   ],
   "source": [
    "import seaborn as sns\n",
    "sns.distplot(reg_pred-y_test)"
   ]
  },
  {
   "cell_type": "markdown",
   "id": "86195389",
   "metadata": {},
   "source": [
    "# Assumption of Linear Regression"
   ]
  },
  {
   "cell_type": "code",
   "execution_count": 61,
   "id": "f2878080",
   "metadata": {},
   "outputs": [
    {
     "data": {
      "text/plain": [
       "Text(0, 0.5, 'Test predicted data')"
      ]
     },
     "execution_count": 61,
     "metadata": {},
     "output_type": "execute_result"
    },
    {
     "data": {
      "image/png": "[encoded data removed]",
      "text/plain": [
       "<Figure size 1440x720 with 1 Axes>"
      ]
     },
     "metadata": {
      "needs_background": "light"
     },
     "output_type": "display_data"
    }
   ],
   "source": [
    "plt.scatter(y_test,reg_pred)\n",
    "plt.xlabel(\"Test truth data\")\n",
    "plt.ylabel('Test predicted data')"
   ]
  },
  {
   "cell_type": "markdown",
   "id": "4d7e47b1",
   "metadata": {},
   "source": [
    "### Residuals "
   ]
  },
  {
   "cell_type": "code",
   "execution_count": 62,
   "id": "d676e734",
   "metadata": {},
   "outputs": [],
   "source": [
    "residual=y_test-reg_pred"
   ]
  },
  {
   "cell_type": "code",
   "execution_count": 63,
   "id": "2c9bf88c",
   "metadata": {},
   "outputs": [
    {
     "data": {
      "text/html": [
       "<div>\n",
       "<style scoped>\n",
       "    .dataframe tbody tr th:only-of-type {\n",
       "        vertical-align: middle;\n",
       "    }\n",
       "\n",
       "    .dataframe tbody tr th {\n",
       "        vertical-align: top;\n",
       "    }\n",
       "\n",
       "    .dataframe thead th {\n",
       "        text-align: right;\n",
       "    }\n",
       "</style>\n",
       "<table border=\"1\" class=\"dataframe\">\n",
       "  <thead>\n",
       "    <tr style=\"text-align: right;\">\n",
       "      <th></th>\n",
       "      <th>Temperature</th>\n",
       "    </tr>\n",
       "  </thead>\n",
       "  <tbody>\n",
       "    <tr>\n",
       "      <th>162</th>\n",
       "      <td>2.642717</td>\n",
       "    </tr>\n",
       "    <tr>\n",
       "      <th>60</th>\n",
       "      <td>1.515510</td>\n",
       "    </tr>\n",
       "    <tr>\n",
       "      <th>61</th>\n",
       "      <td>2.311144</td>\n",
       "    </tr>\n",
       "    <tr>\n",
       "      <th>63</th>\n",
       "      <td>2.995659</td>\n",
       "    </tr>\n",
       "    <tr>\n",
       "      <th>69</th>\n",
       "      <td>2.092086</td>\n",
       "    </tr>\n",
       "    <tr>\n",
       "      <th>...</th>\n",
       "      <td>...</td>\n",
       "    </tr>\n",
       "    <tr>\n",
       "      <th>169</th>\n",
       "      <td>0.315380</td>\n",
       "    </tr>\n",
       "    <tr>\n",
       "      <th>232</th>\n",
       "      <td>-7.042611</td>\n",
       "    </tr>\n",
       "    <tr>\n",
       "      <th>144</th>\n",
       "      <td>1.717902</td>\n",
       "    </tr>\n",
       "    <tr>\n",
       "      <th>208</th>\n",
       "      <td>-3.918630</td>\n",
       "    </tr>\n",
       "    <tr>\n",
       "      <th>105</th>\n",
       "      <td>-3.084772</td>\n",
       "    </tr>\n",
       "  </tbody>\n",
       "</table>\n",
       "<p>81 rows × 1 columns</p>\n",
       "</div>"
      ],
      "text/plain": [
       "     Temperature\n",
       "162     2.642717\n",
       "60      1.515510\n",
       "61      2.311144\n",
       "63      2.995659\n",
       "69      2.092086\n",
       "..           ...\n",
       "169     0.315380\n",
       "232    -7.042611\n",
       "144     1.717902\n",
       "208    -3.918630\n",
       "105    -3.084772\n",
       "\n",
       "[81 rows x 1 columns]"
      ]
     },
     "execution_count": 63,
     "metadata": {},
     "output_type": "execute_result"
    }
   ],
   "source": [
    "residual"
   ]
  },
  {
   "cell_type": "code",
   "execution_count": 64,
   "id": "92c398ff",
   "metadata": {},
   "outputs": [
    {
     "data": {
      "text/plain": [
       "<seaborn.axisgrid.FacetGrid at 0x2505845e370>"
      ]
     },
     "execution_count": 64,
     "metadata": {},
     "output_type": "execute_result"
    },
    {
     "data": {
      "image/png": "[encoded data removed]",
      "text/plain": [
       "<Figure size 458.875x360 with 1 Axes>"
      ]
     },
     "metadata": {
      "needs_background": "light"
     },
     "output_type": "display_data"
    }
   ],
   "source": [
    "sns.displot(residual,kind='kde')"
   ]
  },
  {
   "cell_type": "markdown",
   "id": "d3ae1012",
   "metadata": {},
   "source": [
    "### Scatterplot with prediction and residual "
   ]
  },
  {
   "cell_type": "code",
   "execution_count": 65,
   "id": "c18f0d23",
   "metadata": {},
   "outputs": [
    {
     "data": {
      "text/plain": [
       "<matplotlib.collections.PathCollection at 0x25059add5b0>"
      ]
     },
     "execution_count": 65,
     "metadata": {},
     "output_type": "execute_result"
    },
    {
     "data": {
      "image/png": "[encoded data removed]",
      "text/plain": [
       "<Figure size 1440x720 with 1 Axes>"
      ]
     },
     "metadata": {
      "needs_background": "light"
     },
     "output_type": "display_data"
    }
   ],
   "source": [
    "plt.scatter(reg_pred,residual)"
   ]
  },
  {
   "cell_type": "markdown",
   "id": "bb5c1148",
   "metadata": {},
   "source": [
    "### Performance Metrics "
   ]
  },
  {
   "cell_type": "code",
   "execution_count": 66,
   "id": "a9720de7",
   "metadata": {},
   "outputs": [
    {
     "name": "stdout",
     "output_type": "stream",
     "text": [
      "7.50476697306243\n",
      "2.2354993752323624\n",
      "2.7394829755014776\n"
     ]
    }
   ],
   "source": [
    "from sklearn.metrics import mean_squared_error\n",
    "from sklearn.metrics import mean_absolute_error\n",
    "print(mean_squared_error(y_test,reg_pred))\n",
    "print(mean_absolute_error(y_test,reg_pred))\n",
    "print(np.sqrt(mean_squared_error(y_test,reg_pred)))"
   ]
  },
  {
   "cell_type": "markdown",
   "id": "937c9341",
   "metadata": {},
   "source": [
    "### R square and adjusted R square "
   ]
  },
  {
   "cell_type": "code",
   "execution_count": 67,
   "id": "e5ec17d1",
   "metadata": {},
   "outputs": [
    {
     "name": "stdout",
     "output_type": "stream",
     "text": [
      "0.5037314185907535\n"
     ]
    }
   ],
   "source": [
    "from sklearn.metrics import r2_score\n",
    "score=r2_score(y_test,reg_pred)\n",
    "print(score)"
   ]
  },
  {
   "cell_type": "markdown",
   "id": "13d0cd99",
   "metadata": {},
   "source": [
    "### Adjusted R square "
   ]
  },
  {
   "cell_type": "code",
   "execution_count": 68,
   "id": "07d16ea8",
   "metadata": {},
   "outputs": [
    {
     "data": {
      "text/plain": [
       "0.43283590696086116"
      ]
     },
     "execution_count": 68,
     "metadata": {},
     "output_type": "execute_result"
    }
   ],
   "source": [
    "1-(1-score)*(len(y_test)-1)/(len(y_test)-x_test.shape[1]-1)"
   ]
  },
  {
   "cell_type": "markdown",
   "id": "d87e4921",
   "metadata": {},
   "source": [
    "# Ridege Regression Algorithm "
   ]
  },
  {
   "cell_type": "code",
   "execution_count": 69,
   "id": "f6b1428b",
   "metadata": {},
   "outputs": [],
   "source": [
    "from sklearn.linear_model import Ridge\n"
   ]
  },
  {
   "cell_type": "code",
   "execution_count": 70,
   "id": "89518081",
   "metadata": {},
   "outputs": [],
   "source": [
    "ridge=Ridge()"
   ]
  },
  {
   "cell_type": "code",
   "execution_count": 71,
   "id": "a2e0eca1",
   "metadata": {},
   "outputs": [
    {
     "data": {
      "text/plain": [
       "Ridge()"
      ]
     },
     "execution_count": 71,
     "metadata": {},
     "output_type": "execute_result"
    }
   ],
   "source": [
    "ridge"
   ]
  },
  {
   "cell_type": "code",
   "execution_count": 72,
   "id": "ed0a9b06",
   "metadata": {},
   "outputs": [
    {
     "data": {
      "text/plain": [
       "Ridge()"
      ]
     },
     "execution_count": 72,
     "metadata": {},
     "output_type": "execute_result"
    }
   ],
   "source": [
    "ridge.fit(x_train,y_train)"
   ]
  },
  {
   "cell_type": "code",
   "execution_count": 73,
   "id": "bcd326b6",
   "metadata": {},
   "outputs": [
    {
     "name": "stdout",
     "output_type": "stream",
     "text": [
      "[[-1.25483718 -0.53296814 -0.20702885  0.72895886 -0.60290935 -0.32591751\n",
      "   0.24045074  0.93900788  0.21118476 -0.1916003 ]]\n"
     ]
    }
   ],
   "source": [
    "## Coefficient\n",
    "\n",
    "print(ridge.coef_)"
   ]
  },
  {
   "cell_type": "code",
   "execution_count": 74,
   "id": "f463cabc",
   "metadata": {},
   "outputs": [
    {
     "name": "stdout",
     "output_type": "stream",
     "text": [
      "[32.17791411]\n"
     ]
    }
   ],
   "source": [
    "## Intercept\n",
    "\n",
    "print(ridge.intercept_)"
   ]
  },
  {
   "cell_type": "code",
   "execution_count": 75,
   "id": "c03c405f",
   "metadata": {},
   "outputs": [],
   "source": [
    "ridge_pred=ridge.predict(x_test)"
   ]
  },
  {
   "cell_type": "code",
   "execution_count": 76,
   "id": "022c303b",
   "metadata": {},
   "outputs": [
    {
     "data": {
      "text/plain": [
       "array([[31.35162743],\n",
       "       [33.40986612],\n",
       "       [33.72771064],\n",
       "       [32.07338971],\n",
       "       [32.90931259],\n",
       "       [35.0319983 ],\n",
       "       [32.79015818],\n",
       "       [34.17178646],\n",
       "       [31.97942736],\n",
       "       [33.01801414],\n",
       "       [33.36867288],\n",
       "       [27.41069432],\n",
       "       [35.06294721],\n",
       "       [29.21943029],\n",
       "       [31.86814167],\n",
       "       [32.4415311 ],\n",
       "       [34.32301905],\n",
       "       [28.10883976],\n",
       "       [36.28106232],\n",
       "       [34.1156651 ],\n",
       "       [32.5477257 ],\n",
       "       [34.12721932],\n",
       "       [32.95790766],\n",
       "       [33.29642758],\n",
       "       [36.10629748],\n",
       "       [29.45172695],\n",
       "       [31.55350828],\n",
       "       [32.44406184],\n",
       "       [27.6048532 ],\n",
       "       [32.16940933],\n",
       "       [26.0626233 ],\n",
       "       [27.15902083],\n",
       "       [34.09770279],\n",
       "       [31.64258349],\n",
       "       [32.74172122],\n",
       "       [31.00145744],\n",
       "       [29.02397313],\n",
       "       [33.02208479],\n",
       "       [27.70413671],\n",
       "       [35.54562191],\n",
       "       [32.78559985],\n",
       "       [33.71213911],\n",
       "       [34.19881056],\n",
       "       [31.48850848],\n",
       "       [36.06072934],\n",
       "       [33.43404309],\n",
       "       [24.81171141],\n",
       "       [35.7280546 ],\n",
       "       [33.67748084],\n",
       "       [29.73906751],\n",
       "       [31.08558962],\n",
       "       [32.40946204],\n",
       "       [36.27999474],\n",
       "       [32.1989361 ],\n",
       "       [30.22249483],\n",
       "       [30.08807274],\n",
       "       [32.52930384],\n",
       "       [36.1226345 ],\n",
       "       [31.43466997],\n",
       "       [33.42545678],\n",
       "       [32.07007099],\n",
       "       [32.74547017],\n",
       "       [30.74281953],\n",
       "       [24.73332347],\n",
       "       [31.51966611],\n",
       "       [36.32138028],\n",
       "       [30.00101555],\n",
       "       [29.64684244],\n",
       "       [35.40167579],\n",
       "       [34.05569841],\n",
       "       [28.00372035],\n",
       "       [32.50468393],\n",
       "       [31.96302548],\n",
       "       [31.53812647],\n",
       "       [30.11946542],\n",
       "       [31.09359251],\n",
       "       [32.75250885],\n",
       "       [35.95392448],\n",
       "       [31.27455865],\n",
       "       [37.0485867 ],\n",
       "       [25.1392405 ]])"
      ]
     },
     "execution_count": 76,
     "metadata": {},
     "output_type": "execute_result"
    }
   ],
   "source": [
    "ridge_pred"
   ]
  },
  {
   "cell_type": "code",
   "execution_count": 77,
   "id": "b07e3be0",
   "metadata": {},
   "outputs": [
    {
     "data": {
      "text/plain": [
       "<seaborn.axisgrid.FacetGrid at 0x25059b18d60>"
      ]
     },
     "execution_count": 77,
     "metadata": {},
     "output_type": "execute_result"
    },
    {
     "data": {
      "image/png": "[encoded data removed]",
      "text/plain": [
       "<Figure size 458.875x360 with 1 Axes>"
      ]
     },
     "metadata": {
      "needs_background": "light"
     },
     "output_type": "display_data"
    }
   ],
   "source": [
    "import seaborn as sns\n",
    "sns.displot(ridge_pred-y_test,kind='kde')"
   ]
  },
  {
   "cell_type": "markdown",
   "id": "a0cb6d8d",
   "metadata": {},
   "source": [
    "# Assumption on Ridge Regression "
   ]
  },
  {
   "cell_type": "code",
   "execution_count": 78,
   "id": "b3e78cd8",
   "metadata": {},
   "outputs": [
    {
     "data": {
      "text/plain": [
       "Text(0, 0.5, 'Test predicted data')"
      ]
     },
     "execution_count": 78,
     "metadata": {},
     "output_type": "execute_result"
    },
    {
     "data": {
      "image/png": "[encoded data removed]",
      "text/plain": [
       "<Figure size 1440x720 with 1 Axes>"
      ]
     },
     "metadata": {
      "needs_background": "light"
     },
     "output_type": "display_data"
    }
   ],
   "source": [
    "plt.scatter(y_test,ridge_pred)\n",
    "plt.xlabel(\"Test truth data\")\n",
    "plt.ylabel('Test predicted data')"
   ]
  },
  {
   "cell_type": "code",
   "execution_count": 79,
   "id": "e3ff3d8f",
   "metadata": {},
   "outputs": [],
   "source": [
    "# Residual\n",
    "\n",
    "residual=y_test-ridge_pred"
   ]
  },
  {
   "cell_type": "code",
   "execution_count": 80,
   "id": "04830a4a",
   "metadata": {},
   "outputs": [
    {
     "data": {
      "text/html": [
       "<div>\n",
       "<style scoped>\n",
       "    .dataframe tbody tr th:only-of-type {\n",
       "        vertical-align: middle;\n",
       "    }\n",
       "\n",
       "    .dataframe tbody tr th {\n",
       "        vertical-align: top;\n",
       "    }\n",
       "\n",
       "    .dataframe thead th {\n",
       "        text-align: right;\n",
       "    }\n",
       "</style>\n",
       "<table border=\"1\" class=\"dataframe\">\n",
       "  <thead>\n",
       "    <tr style=\"text-align: right;\">\n",
       "      <th></th>\n",
       "      <th>Temperature</th>\n",
       "    </tr>\n",
       "  </thead>\n",
       "  <tbody>\n",
       "    <tr>\n",
       "      <th>162</th>\n",
       "      <td>2.648373</td>\n",
       "    </tr>\n",
       "    <tr>\n",
       "      <th>60</th>\n",
       "      <td>1.590134</td>\n",
       "    </tr>\n",
       "    <tr>\n",
       "      <th>61</th>\n",
       "      <td>2.272289</td>\n",
       "    </tr>\n",
       "    <tr>\n",
       "      <th>63</th>\n",
       "      <td>2.926610</td>\n",
       "    </tr>\n",
       "    <tr>\n",
       "      <th>69</th>\n",
       "      <td>2.090687</td>\n",
       "    </tr>\n",
       "    <tr>\n",
       "      <th>...</th>\n",
       "      <td>...</td>\n",
       "    </tr>\n",
       "    <tr>\n",
       "      <th>169</th>\n",
       "      <td>0.247491</td>\n",
       "    </tr>\n",
       "    <tr>\n",
       "      <th>232</th>\n",
       "      <td>-6.953924</td>\n",
       "    </tr>\n",
       "    <tr>\n",
       "      <th>144</th>\n",
       "      <td>1.725441</td>\n",
       "    </tr>\n",
       "    <tr>\n",
       "      <th>208</th>\n",
       "      <td>-4.048587</td>\n",
       "    </tr>\n",
       "    <tr>\n",
       "      <th>105</th>\n",
       "      <td>-3.139240</td>\n",
       "    </tr>\n",
       "  </tbody>\n",
       "</table>\n",
       "<p>81 rows × 1 columns</p>\n",
       "</div>"
      ],
      "text/plain": [
       "     Temperature\n",
       "162     2.648373\n",
       "60      1.590134\n",
       "61      2.272289\n",
       "63      2.926610\n",
       "69      2.090687\n",
       "..           ...\n",
       "169     0.247491\n",
       "232    -6.953924\n",
       "144     1.725441\n",
       "208    -4.048587\n",
       "105    -3.139240\n",
       "\n",
       "[81 rows x 1 columns]"
      ]
     },
     "execution_count": 80,
     "metadata": {},
     "output_type": "execute_result"
    }
   ],
   "source": [
    "residual"
   ]
  },
  {
   "cell_type": "code",
   "execution_count": 81,
   "id": "51aba1da",
   "metadata": {},
   "outputs": [
    {
     "data": {
      "text/plain": [
       "<seaborn.axisgrid.FacetGrid at 0x2505a151e50>"
      ]
     },
     "execution_count": 81,
     "metadata": {},
     "output_type": "execute_result"
    },
    {
     "data": {
      "image/png": "[encoded data removed]",
      "text/plain": [
       "<Figure size 458.875x360 with 1 Axes>"
      ]
     },
     "metadata": {
      "needs_background": "light"
     },
     "output_type": "display_data"
    }
   ],
   "source": [
    "sns.displot(residual,kind='kde')"
   ]
  },
  {
   "cell_type": "markdown",
   "id": "db498d03",
   "metadata": {},
   "source": [
    "### Scatter plot with residual and prediction "
   ]
  },
  {
   "cell_type": "code",
   "execution_count": 82,
   "id": "a0f5d96c",
   "metadata": {},
   "outputs": [
    {
     "data": {
      "text/plain": [
       "<matplotlib.collections.PathCollection at 0x2505a209400>"
      ]
     },
     "execution_count": 82,
     "metadata": {},
     "output_type": "execute_result"
    },
    {
     "data": {
      "image/png": "[encoded data removed]",
      "text/plain": [
       "<Figure size 1440x720 with 1 Axes>"
      ]
     },
     "metadata": {
      "needs_background": "light"
     },
     "output_type": "display_data"
    }
   ],
   "source": [
    "plt.scatter(ridge_pred,residual)"
   ]
  },
  {
   "cell_type": "markdown",
   "id": "595a6219",
   "metadata": {},
   "source": [
    "## Performance Matrics "
   ]
  },
  {
   "cell_type": "code",
   "execution_count": 83,
   "id": "e21f50d0",
   "metadata": {},
   "outputs": [
    {
     "name": "stdout",
     "output_type": "stream",
     "text": [
      "7.444528719288362\n",
      "2.2355295943587614\n",
      "2.728466367630058\n"
     ]
    }
   ],
   "source": [
    "from sklearn.metrics import mean_squared_error\n",
    "from sklearn.metrics import mean_absolute_error\n",
    "print(mean_squared_error(y_test,ridge_pred))\n",
    "print(mean_absolute_error(y_test,ridge_pred))\n",
    "print(np.sqrt(mean_squared_error(y_test,ridge_pred)))"
   ]
  },
  {
   "cell_type": "markdown",
   "id": "e3e45e6f",
   "metadata": {},
   "source": [
    "### R square "
   ]
  },
  {
   "cell_type": "code",
   "execution_count": 84,
   "id": "b191452c",
   "metadata": {},
   "outputs": [
    {
     "name": "stdout",
     "output_type": "stream",
     "text": [
      "0.5077148004671436\n"
     ]
    }
   ],
   "source": [
    "from sklearn.metrics import r2_score\n",
    "ridge_score=r2_score(y_test,ridge_pred)\n",
    "print(ridge_score)"
   ]
  },
  {
   "cell_type": "markdown",
   "id": "85b121fc",
   "metadata": {},
   "source": [
    "## Adjusted R square "
   ]
  },
  {
   "cell_type": "code",
   "execution_count": 85,
   "id": "03733cb6",
   "metadata": {},
   "outputs": [
    {
     "data": {
      "text/plain": [
       "0.4373883433910213"
      ]
     },
     "execution_count": 85,
     "metadata": {},
     "output_type": "execute_result"
    }
   ],
   "source": [
    "1-(1-ridge_score)*(len(y_test)-1)/(len(y_test)-x_test.shape[1]-1)"
   ]
  },
  {
   "cell_type": "markdown",
   "id": "5027f024",
   "metadata": {},
   "source": [
    "# Lasso Regression "
   ]
  },
  {
   "cell_type": "code",
   "execution_count": 86,
   "id": "8e2a3491",
   "metadata": {},
   "outputs": [],
   "source": [
    "from sklearn.linear_model import Lasso"
   ]
  },
  {
   "cell_type": "code",
   "execution_count": 87,
   "id": "5ac67223",
   "metadata": {},
   "outputs": [],
   "source": [
    "lasso=Lasso()"
   ]
  },
  {
   "cell_type": "code",
   "execution_count": 88,
   "id": "f7deab7b",
   "metadata": {},
   "outputs": [
    {
     "data": {
      "text/plain": [
       "Lasso()"
      ]
     },
     "execution_count": 88,
     "metadata": {},
     "output_type": "execute_result"
    }
   ],
   "source": [
    "lasso"
   ]
  },
  {
   "cell_type": "code",
   "execution_count": 89,
   "id": "5c1886db",
   "metadata": {},
   "outputs": [
    {
     "data": {
      "text/plain": [
       "Lasso()"
      ]
     },
     "execution_count": 89,
     "metadata": {},
     "output_type": "execute_result"
    }
   ],
   "source": [
    "lasso.fit(x_train,y_train)"
   ]
  },
  {
   "cell_type": "markdown",
   "id": "965472f4",
   "metadata": {},
   "source": [
    "### Coefficients and Intercepts"
   ]
  },
  {
   "cell_type": "code",
   "execution_count": 90,
   "id": "19028803",
   "metadata": {},
   "outputs": [
    {
     "name": "stdout",
     "output_type": "stream",
     "text": [
      "[-0.71955751 -0.         -0.          0.89582004  0.         -0.\n",
      "  0.          0.          0.         -0.        ]\n"
     ]
    }
   ],
   "source": [
    "print(lasso.coef_)"
   ]
  },
  {
   "cell_type": "code",
   "execution_count": 91,
   "id": "4331d534",
   "metadata": {},
   "outputs": [
    {
     "name": "stdout",
     "output_type": "stream",
     "text": [
      "[32.17791411]\n"
     ]
    }
   ],
   "source": [
    "print(lasso.intercept_)"
   ]
  },
  {
   "cell_type": "code",
   "execution_count": 92,
   "id": "33afa011",
   "metadata": {},
   "outputs": [],
   "source": [
    "## Prediction for test data\n",
    "\n",
    "lasso_pred = lasso.predict(x_test)"
   ]
  },
  {
   "cell_type": "code",
   "execution_count": 93,
   "id": "358d1bd6",
   "metadata": {},
   "outputs": [
    {
     "data": {
      "text/plain": [
       "array([32.29700076, 32.6744027 , 33.06609539, 32.07346965, 32.92497671,\n",
       "       33.33947653, 33.32111992, 32.77042154, 32.11916885, 32.70983221,\n",
       "       33.15976154, 30.29861247, 34.17172792, 30.95174825, 33.0931383 ,\n",
       "       32.31497272, 32.93691477, 29.42489766, 34.46059856, 33.50695377,\n",
       "       32.46152593, 33.02899752, 33.30888217, 32.80645043, 34.5498142 ,\n",
       "       30.18680443, 32.38908351, 32.89121556, 29.47641605, 31.8492542 ,\n",
       "       29.50217524, 28.6091198 , 33.21226395, 32.70054654, 32.64380834,\n",
       "       31.80937418, 30.23515603, 32.53110125, 29.22810977, 33.62676377,\n",
       "       32.55104126, 33.23190428, 33.93112391, 31.84411936, 34.06445535,\n",
       "       33.20742879, 29.78847846, 33.80519505, 33.21966653, 30.53913152,\n",
       "       31.62769114, 32.373594  , 33.92016988, 32.24993288, 31.51301599,\n",
       "       31.26381066, 32.303719  , 34.28571873, 31.84095256, 33.47507571,\n",
       "       32.27184094, 32.20868418, 31.42230192, 29.36272493, 32.24706577,\n",
       "       34.47767146, 31.13749714, 31.41648274, 33.33947653, 33.04221928,\n",
       "       30.62774778, 32.69215994, 32.20868418, 31.45674741, 31.17557904,\n",
       "       31.67565808, 32.4164261 , 33.56882682, 32.11728577, 34.26736212,\n",
       "       29.66708507])"
      ]
     },
     "execution_count": 93,
     "metadata": {},
     "output_type": "execute_result"
    }
   ],
   "source": [
    "lasso_pred"
   ]
  },
  {
   "cell_type": "markdown",
   "id": "87ff4462",
   "metadata": {},
   "source": [
    "### Performace Matrics "
   ]
  },
  {
   "cell_type": "code",
   "execution_count": 94,
   "id": "b0343f7b",
   "metadata": {},
   "outputs": [
    {
     "name": "stdout",
     "output_type": "stream",
     "text": [
      "9.10609532182792\n",
      "2.4978660766652734\n",
      "3.0176307464346794\n"
     ]
    }
   ],
   "source": [
    "from sklearn.metrics import mean_squared_error\n",
    "from sklearn.metrics import mean_absolute_error\n",
    "print(mean_squared_error(y_test,lasso_pred))\n",
    "print(mean_absolute_error(y_test,lasso_pred))\n",
    "print(np.sqrt(mean_squared_error(y_test,lasso_pred)))"
   ]
  },
  {
   "cell_type": "markdown",
   "id": "8c8dfcdc",
   "metadata": {},
   "source": [
    "## R Square "
   ]
  },
  {
   "cell_type": "code",
   "execution_count": 95,
   "id": "5c0bdf03",
   "metadata": {},
   "outputs": [
    {
     "name": "stdout",
     "output_type": "stream",
     "text": [
      "0.39784019626969913\n"
     ]
    }
   ],
   "source": [
    "from sklearn.metrics import r2_score\n",
    "lasso_score=r2_score(y_test,lasso_pred)\n",
    "print(lasso_score)"
   ]
  },
  {
   "cell_type": "markdown",
   "id": "1b07e24b",
   "metadata": {},
   "source": [
    "## Adjusted R square "
   ]
  },
  {
   "cell_type": "code",
   "execution_count": 96,
   "id": "3a758007",
   "metadata": {},
   "outputs": [
    {
     "data": {
      "text/plain": [
       "0.31181736716537045"
      ]
     },
     "execution_count": 96,
     "metadata": {},
     "output_type": "execute_result"
    }
   ],
   "source": [
    "1-(1-lasso_score)*(len(y_test)-1)/(len(y_test)-x_test.shape[1]-1)"
   ]
  },
  {
   "cell_type": "markdown",
   "id": "db1420fa",
   "metadata": {},
   "source": [
    "#  Elastic - Net regression"
   ]
  },
  {
   "cell_type": "code",
   "execution_count": 97,
   "id": "7b1e050d",
   "metadata": {},
   "outputs": [],
   "source": [
    "from sklearn.linear_model import ElasticNet"
   ]
  },
  {
   "cell_type": "code",
   "execution_count": 98,
   "id": "88989acd",
   "metadata": {},
   "outputs": [],
   "source": [
    "elastic=ElasticNet()"
   ]
  },
  {
   "cell_type": "code",
   "execution_count": 99,
   "id": "be33c30c",
   "metadata": {},
   "outputs": [
    {
     "data": {
      "text/plain": [
       "ElasticNet()"
      ]
     },
     "execution_count": 99,
     "metadata": {},
     "output_type": "execute_result"
    }
   ],
   "source": [
    "elastic"
   ]
  },
  {
   "cell_type": "code",
   "execution_count": 100,
   "id": "929e4a90",
   "metadata": {},
   "outputs": [
    {
     "data": {
      "text/plain": [
       "ElasticNet()"
      ]
     },
     "execution_count": 100,
     "metadata": {},
     "output_type": "execute_result"
    }
   ],
   "source": [
    "elastic.fit(x_train,y_train)"
   ]
  },
  {
   "cell_type": "markdown",
   "id": "62d8a846",
   "metadata": {},
   "source": [
    "### Coefficients and Intercepts "
   ]
  },
  {
   "cell_type": "code",
   "execution_count": 101,
   "id": "b64d5f63",
   "metadata": {},
   "outputs": [
    {
     "name": "stdout",
     "output_type": "stream",
     "text": [
      "[-0.69396083 -0.10315403 -0.01507374  0.6926462   0.10752205 -0.\n",
      "  0.28392506  0.07544656  0.05920494 -0.        ]\n"
     ]
    }
   ],
   "source": [
    "print(elastic.coef_)"
   ]
  },
  {
   "cell_type": "code",
   "execution_count": 102,
   "id": "49772758",
   "metadata": {},
   "outputs": [
    {
     "name": "stdout",
     "output_type": "stream",
     "text": [
      "[32.17791411]\n"
     ]
    }
   ],
   "source": [
    "print(elastic.intercept_)"
   ]
  },
  {
   "cell_type": "code",
   "execution_count": 103,
   "id": "7aec5c02",
   "metadata": {},
   "outputs": [],
   "source": [
    "## Prediction for test data\n",
    "elastic_pred = elastic.predict(x_test)"
   ]
  },
  {
   "cell_type": "code",
   "execution_count": 104,
   "id": "0cd85f03",
   "metadata": {},
   "outputs": [
    {
     "data": {
      "text/plain": [
       "array([31.93076461, 32.89925279, 32.68965549, 31.74550697, 32.98836724,\n",
       "       33.91299333, 33.41776043, 32.72078781, 31.98790062, 32.72490467,\n",
       "       33.30044153, 29.87165926, 34.12217082, 30.65936304, 32.72255437,\n",
       "       32.28333638, 32.84852051, 29.39040946, 35.0786389 , 33.86050655,\n",
       "       32.42586731, 33.31820617, 33.43805315, 32.91463826, 35.09348452,\n",
       "       29.99111145, 32.16696212, 32.5466324 , 29.35144729, 31.97557447,\n",
       "       29.14216505, 28.60375228, 33.27376701, 32.28678221, 32.70561446,\n",
       "       31.30843328, 30.01197805, 32.32347658, 29.15902087, 33.91042464,\n",
       "       32.74766721, 33.47903767, 34.12940549, 31.56461381, 34.44958031,\n",
       "       33.30036678, 29.35558024, 33.99794233, 33.3293338 , 30.2978916 ,\n",
       "       31.4241864 , 32.36311525, 34.61701506, 32.03023331, 31.41948172,\n",
       "       30.89419347, 32.508051  , 34.7691147 , 31.73370163, 33.3687946 ,\n",
       "       32.1509131 , 32.34603101, 31.21296836, 28.90195873, 31.96458545,\n",
       "       34.79046967, 30.91855019, 31.0841594 , 33.82121587, 32.95120309,\n",
       "       30.20921418, 32.14232146, 32.22575701, 31.16525171, 30.98976689,\n",
       "       31.86034438, 32.57697932, 33.81340658, 31.74661525, 35.27207415,\n",
       "       29.07891997])"
      ]
     },
     "execution_count": 104,
     "metadata": {},
     "output_type": "execute_result"
    }
   ],
   "source": [
    "elastic_pred"
   ]
  },
  {
   "cell_type": "markdown",
   "id": "af47e641",
   "metadata": {},
   "source": [
    "# Assumption of Elastic Net Regression"
   ]
  },
  {
   "cell_type": "code",
   "execution_count": 105,
   "id": "aec1baf5",
   "metadata": {},
   "outputs": [
    {
     "data": {
      "text/plain": [
       "Text(0, 0.5, 'Test predicted data')"
      ]
     },
     "execution_count": 105,
     "metadata": {},
     "output_type": "execute_result"
    },
    {
     "data": {
      "image/png": "[encoded data removed]",
      "text/plain": [
       "<Figure size 1440x720 with 1 Axes>"
      ]
     },
     "metadata": {
      "needs_background": "light"
     },
     "output_type": "display_data"
    }
   ],
   "source": [
    "plt.scatter(y_test,elastic_pred)\n",
    "plt.xlabel(\"Test truth data\")\n",
    "plt.ylabel('Test predicted data')"
   ]
  },
  {
   "cell_type": "markdown",
   "id": "d0aed05b",
   "metadata": {},
   "source": [
    "## Performance Matrix"
   ]
  },
  {
   "cell_type": "code",
   "execution_count": 106,
   "id": "8e9ed207",
   "metadata": {},
   "outputs": [
    {
     "name": "stdout",
     "output_type": "stream",
     "text": [
      "8.346007590926808\n",
      "2.3987645425349116\n",
      "2.8889457576989583\n"
     ]
    }
   ],
   "source": [
    "from sklearn.metrics import mean_squared_error\n",
    "from sklearn.metrics import mean_absolute_error\n",
    "print(mean_squared_error(y_test,elastic_pred))\n",
    "print(mean_absolute_error(y_test,elastic_pred))\n",
    "print(np.sqrt(mean_squared_error(y_test,elastic_pred)))"
   ]
  },
  {
   "cell_type": "markdown",
   "id": "b536da89",
   "metadata": {},
   "source": [
    "### R square"
   ]
  },
  {
   "cell_type": "code",
   "execution_count": 107,
   "id": "0f9267c1",
   "metadata": {},
   "outputs": [
    {
     "name": "stdout",
     "output_type": "stream",
     "text": [
      "0.4481026043251144\n"
     ]
    }
   ],
   "source": [
    "from sklearn.metrics import r2_score\n",
    "elastic_score=r2_score(y_test,elastic_pred)\n",
    "print(elastic_score)"
   ]
  },
  {
   "cell_type": "markdown",
   "id": "00cedd06",
   "metadata": {},
   "source": [
    "### Adjusted R square "
   ]
  },
  {
   "cell_type": "code",
   "execution_count": 108,
   "id": "22421126",
   "metadata": {},
   "outputs": [
    {
     "data": {
      "text/plain": [
       "0.36926011922870217"
      ]
     },
     "execution_count": 108,
     "metadata": {},
     "output_type": "execute_result"
    }
   ],
   "source": [
    "1-(1-elastic_score)*(len(y_test)-1)/(len(y_test)-x_test.shape[1]-1)"
   ]
  }
 ],
 "metadata": {
  "kernelspec": {
   "display_name": "Python 3 (ipykernel)",
   "language": "python",
   "name": "python3"
  },
  "language_info": {
   "codemirror_mode": {
    "name": "ipython",
    "version": 3
   },
   "file_extension": ".py",
   "mimetype": "text/x-python",
   "name": "python",
   "nbconvert_exporter": "python",
   "pygments_lexer": "ipython3",
   "version": "3.9.12"
  }
 },
 "nbformat": 4,
 "nbformat_minor": 5
}
